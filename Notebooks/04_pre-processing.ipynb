{
 "cells": [
  {
   "cell_type": "code",
   "execution_count": 15,
   "metadata": {
    "scrolled": true
   },
   "outputs": [
    {
     "name": "stdout",
     "output_type": "stream",
     "text": [
      "The autoreload extension is already loaded. To reload it, use:\n",
      "  %reload_ext autoreload\n"
     ]
    }
   ],
   "source": [
    "%load_ext autoreload\n",
    "%autoreload 2"
   ]
  },
  {
   "cell_type": "code",
   "execution_count": 25,
   "metadata": {},
   "outputs": [],
   "source": [
    "import numpy as np\n",
    "import pandas as pd\n",
    "import matplotlib.pyplot as plt\n",
    "import os\n",
    "import sys\n",
    "from keras.preprocessing.image import ImageDataGenerator, img_to_array, load_img\n",
    "\n",
    "sys.path.insert(0, '..')\n",
    "from data_wrangling import create_new_folder, get_image_info\n",
    "from preprocessing import delete_corrupt_image"
   ]
  },
  {
   "cell_type": "code",
   "execution_count": 17,
   "metadata": {},
   "outputs": [],
   "source": [
    "train = r'../train_images'\n",
    "val = r'../val_images'"
   ]
  },
  {
   "cell_type": "code",
   "execution_count": 18,
   "metadata": {},
   "outputs": [],
   "source": [
    "train_df = pd.read_csv(r'..\\data\\train.csv')\n",
    "train_df.drop(labels='Unnamed: 0', axis=1,inplace=True)\n",
    "test_df = pd.read_csv(r'..\\data\\test.csv')\n",
    "test_df.drop(labels='Unnamed: 0', axis=1, inplace=True)"
   ]
  },
  {
   "cell_type": "code",
   "execution_count": 19,
   "metadata": {},
   "outputs": [
    {
     "name": "stdout",
     "output_type": "stream",
     "text": [
      "Deleted 0 images\n",
      "Deleted 0 images\n"
     ]
    }
   ],
   "source": [
    "delete_corrupt_image(train)\n",
    "delete_corrupt_image(val)"
   ]
  },
  {
   "cell_type": "code",
   "execution_count": 23,
   "metadata": {},
   "outputs": [
    {
     "data": {
      "text/plain": [
       "Impressionism             1096\n",
       "Pop Art                    145\n",
       "Abstract Expressionism      19\n",
       "Name: label, dtype: int64"
      ]
     },
     "execution_count": 23,
     "metadata": {},
     "output_type": "execute_result"
    }
   ],
   "source": [
    "train_df.label.value_counts()"
   ]
  },
  {
   "cell_type": "code",
   "execution_count": 20,
   "metadata": {},
   "outputs": [],
   "source": [
    "#create generator for image augmentation\n",
    "data_gen = ImageDataGenerator(rotation_range=40, \n",
    "                              width_shift_range=0.2,\n",
    "                              height_shift_range=0.2,\n",
    "                              brightness_range=(0.25, 1.0),\n",
    "                              channel_shift_range=0.2,\n",
    "                              shear_range=0.2,\n",
    "                              zoom_range=0.2, \n",
    "                              horizontal_flip=True, \n",
    "                              fill_mode='reflect')"
   ]
  },
  {
   "cell_type": "code",
   "execution_count": 21,
   "metadata": {},
   "outputs": [],
   "source": [
    "#augment data and add samples to smaller classes in training images only\n",
    "#find max number of images for a genre \n",
    "maximum = max(train_df.label.value_counts())\n",
    "\n",
    "for i in train_df.label.unique():\n",
    "    num = int(train_df.label[train_df.label == i].value_counts())\n",
    "    if num < maximum:\n",
    "        sample = list(train_df.filepath.loc[train_df.label == i].sample(frac=1, replace=False))\n",
    "        for s in sample:\n",
    "            img = load_img(s)\n",
    "            x = img_to_array(img)\n",
    "            x = x.reshape((1,) +x.shape)\n",
    "            count=0\n",
    "            \n",
    "            for batch in data_gen.flow(x, batch_size=1, save_to_dir=os.path.join(train,i),\n",
    "                                      save_prefix=f'{i}_aug', save_format='jpeg'):\n",
    "                count+=1\n",
    "                if count>1:\n",
    "                    break"
   ]
  },
  {
   "cell_type": "code",
   "execution_count": 26,
   "metadata": {},
   "outputs": [],
   "source": [
    "#get image information from train.csv\n",
    "img_info = get_image_info(train)\n",
    "#convert lists to dataframe\n",
    "zipped = zip(['label', 'filename', 'filepath'], img_info)\n",
    "train_df = pd.DataFrame(dict(list(zipped)))\n",
    "#save training samples to train.csv\n",
    "train_df.to_csv(r'..\\data\\train.csv')"
   ]
  },
  {
   "cell_type": "code",
   "execution_count": 27,
   "metadata": {},
   "outputs": [
    {
     "data": {
      "text/plain": [
       "Impressionism             1096\n",
       "Pop Art                    432\n",
       "Abstract Expressionism      57\n",
       "Name: label, dtype: int64"
      ]
     },
     "execution_count": 27,
     "metadata": {},
     "output_type": "execute_result"
    }
   ],
   "source": [
    "train_df.label.value_counts()"
   ]
  },
  {
   "cell_type": "code",
   "execution_count": null,
   "metadata": {},
   "outputs": [],
   "source": []
  }
 ],
 "metadata": {
  "kernelspec": {
   "display_name": "deep learning",
   "language": "python",
   "name": "deep_learning"
  },
  "language_info": {
   "codemirror_mode": {
    "name": "ipython",
    "version": 3
   },
   "file_extension": ".py",
   "mimetype": "text/x-python",
   "name": "python",
   "nbconvert_exporter": "python",
   "pygments_lexer": "ipython3",
   "version": "3.8.5"
  }
 },
 "nbformat": 4,
 "nbformat_minor": 4
}
