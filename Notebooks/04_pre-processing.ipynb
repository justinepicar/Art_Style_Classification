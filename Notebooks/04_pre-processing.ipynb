{
 "cells": [
  {
   "cell_type": "code",
   "execution_count": 1,
   "metadata": {
    "scrolled": true
   },
   "outputs": [],
   "source": [
    "%load_ext autoreload\n",
    "%autoreload 2"
   ]
  },
  {
   "cell_type": "code",
   "execution_count": 2,
   "metadata": {},
   "outputs": [],
   "source": [
    "import numpy as np\n",
    "import pandas as pd\n",
    "import matplotlib.pyplot as plt\n",
    "import seaborn as sns\n",
    "import os\n",
    "import sys\n",
    "from keras.preprocessing.image import ImageDataGenerator, img_to_array, load_img\n",
    "\n",
    "sys.path.insert(0, '..')\n",
    "from data_wrangling import create_new_folder, get_image_info\n",
    "from preprocessing import delete_corrupt_image"
   ]
  },
  {
   "cell_type": "markdown",
   "metadata": {},
   "source": [
    "#### READ IN TRAIN DATASET"
   ]
  },
  {
   "cell_type": "code",
   "execution_count": 3,
   "metadata": {},
   "outputs": [],
   "source": [
    "train = r'../train_images'\n",
    "val = r'../val_images'\n",
    "test = r'../test_images'"
   ]
  },
  {
   "cell_type": "code",
   "execution_count": 4,
   "metadata": {},
   "outputs": [],
   "source": [
    "train_df = pd.read_csv(r'..\\data\\train.csv')\n",
    "train_df.drop(labels='Unnamed: 0', axis=1,inplace=True)"
   ]
  },
  {
   "cell_type": "markdown",
   "metadata": {},
   "source": [
    "#### CHECK DATASETS FOR ANY CORRUPT IMAGES"
   ]
  },
  {
   "cell_type": "code",
   "execution_count": 5,
   "metadata": {},
   "outputs": [
    {
     "name": "stdout",
     "output_type": "stream",
     "text": [
      "Deleted 0 images\n",
      "Deleted 0 images\n",
      "Deleted 0 images\n"
     ]
    }
   ],
   "source": [
    "delete_corrupt_image(train)\n",
    "delete_corrupt_image(val)\n",
    "delete_corrupt_image(test)"
   ]
  },
  {
   "cell_type": "markdown",
   "metadata": {},
   "source": [
    "#### OBSERVE DISTRIBUTION OF DATASET"
   ]
  },
  {
   "cell_type": "code",
   "execution_count": 6,
   "metadata": {
    "scrolled": true
   },
   "outputs": [
    {
     "data": {
      "text/plain": [
       "Impressionism             616\n",
       "Cubism                    198\n",
       "Expressionism              87\n",
       "Pop Art                    82\n",
       "Byzantine Art              44\n",
       "Abstract Expressionism     11\n",
       "Name: label, dtype: int64"
      ]
     },
     "execution_count": 6,
     "metadata": {},
     "output_type": "execute_result"
    }
   ],
   "source": [
    "train_df.label.value_counts()"
   ]
  },
  {
   "cell_type": "code",
   "execution_count": 7,
   "metadata": {},
   "outputs": [
    {
     "data": {
      "image/png": "[encoded data removed]",
      "text/plain": [
       "<Figure size 720x720 with 1 Axes>"
      ]
     },
     "metadata": {
      "needs_background": "light"
     },
     "output_type": "display_data"
    }
   ],
   "source": [
    "plt.figure(figsize=(10,10))\n",
    "sns.barplot(x=train_df.label.value_counts().keys(), y=train_df.label.value_counts())\n",
    "plt.xticks(rotation='vertical')\n",
    "plt.xlabel('Art Style')\n",
    "plt.ylabel('Count')\n",
    "plt.title('Painting by Movement')\n",
    "\n",
    "plt.show()"
   ]
  },
  {
   "cell_type": "markdown",
   "metadata": {},
   "source": [
    "#### AUGMENT A SAMPLE OF THE DATA AND SAVE TO TRAINING FOLDER"
   ]
  },
  {
   "cell_type": "code",
   "execution_count": 8,
   "metadata": {},
   "outputs": [
    {
     "name": "stderr",
     "output_type": "stream",
     "text": [
      "C:\\Users\\Justine\\anaconda3\\envs\\deep_learning\\lib\\site-packages\\keras_preprocessing\\image\\image_data_generator.py:356: UserWarning: This ImageDataGenerator specifies `samplewise_std_normalization`, which overrides setting of `samplewise_center`.\n",
      "  warnings.warn('This ImageDataGenerator specifies '\n"
     ]
    }
   ],
   "source": [
    "#create generator for image augmentation\n",
    "data_gen = ImageDataGenerator(rotation_range=40, \n",
    "                              width_shift_range=0.2,\n",
    "                              height_shift_range=0.2,\n",
    "                              brightness_range=(0.25, 1.0),\n",
    "                              channel_shift_range=0.2,\n",
    "                              shear_range=0.2,\n",
    "                              zoom_range=0.2, \n",
    "                              horizontal_flip=True,\n",
    "                              samplewise_std_normalization = True,\n",
    "                              fill_mode='nearest')"
   ]
  },
  {
   "cell_type": "code",
   "execution_count": 9,
   "metadata": {},
   "outputs": [],
   "source": [
    "#augment data and add samples to smaller classes in training images only\n",
    "#find max number of images for a genre \n",
    "maximum = max(train_df.label.value_counts())\n",
    "\n",
    "for i in train_df.label.unique():\n",
    "    num = int(train_df.label[train_df.label == i].value_counts())\n",
    "    if num < maximum:\n",
    "        sample = list(train_df.filepath.loc[train_df.label == i].sample(frac=.75, replace=False))\n",
    "        for s in sample:\n",
    "            img = load_img(s)\n",
    "            x = img_to_array(img)\n",
    "            x = x.reshape((1,) +x.shape)\n",
    "            count=0\n",
    "            \n",
    "            for batch in data_gen.flow(x, batch_size=1, save_to_dir=os.path.join(train,i),\n",
    "                                      save_prefix=f'{i}_aug', save_format='jpeg'):\n",
    "                count+=1\n",
    "                if count>0:\n",
    "                    break"
   ]
  },
  {
   "cell_type": "code",
   "execution_count": 5,
   "metadata": {},
   "outputs": [],
   "source": [
    "#get image information from train.csv\n",
    "train_aug_df = get_image_info(train)\n",
    "#save training samples to train.csv\n",
    "train_aug_df.to_csv(r'..\\data\\train_augmented.csv')"
   ]
  },
  {
   "cell_type": "markdown",
   "metadata": {},
   "source": [
    "#### OBSERVE NEW DISTRIBUTION OF TRAINING DATA"
   ]
  },
  {
   "cell_type": "code",
   "execution_count": 6,
   "metadata": {
    "scrolled": false
   },
   "outputs": [
    {
     "data": {
      "text/plain": [
       "Impressionism             616\n",
       "Cubism                    490\n",
       "Expressionism             216\n",
       "Pop Art                   203\n",
       "Byzantine Art             110\n",
       "Abstract Expressionism     27\n",
       "Name: label, dtype: int64"
      ]
     },
     "execution_count": 6,
     "metadata": {},
     "output_type": "execute_result"
    }
   ],
   "source": [
    "train_aug_df.label.value_counts()"
   ]
  },
  {
   "cell_type": "code",
   "execution_count": 7,
   "metadata": {},
   "outputs": [
    {
     "data": {
      "image/png": "[encoded data removed]",
      "text/plain": [
       "<Figure size 720x720 with 1 Axes>"
      ]
     },
     "metadata": {
      "needs_background": "light"
     },
     "output_type": "display_data"
    }
   ],
   "source": [
    "plt.figure(figsize=(10,10))\n",
    "sns.barplot(x=train_aug_df.label.value_counts().keys(), y=train_aug_df.label.value_counts())\n",
    "plt.xticks(rotation='vertical')\n",
    "plt.xlabel('Art Style')\n",
    "plt.ylabel('Count')\n",
    "plt.title('Painting by Movement')\n",
    "\n",
    "plt.show()"
   ]
  }
 ],
 "metadata": {
  "kernelspec": {
   "display_name": "deep learning",
   "language": "python",
   "name": "deep_learning"
  },
  "language_info": {
   "codemirror_mode": {
    "name": "ipython",
    "version": 3
   },
   "file_extension": ".py",
   "mimetype": "text/x-python",
   "name": "python",
   "nbconvert_exporter": "python",
   "pygments_lexer": "ipython3",
   "version": "3.8.5"
  }
 },
 "nbformat": 4,
 "nbformat_minor": 4
}
