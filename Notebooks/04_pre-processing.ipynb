{
 "cells": [
  {
   "cell_type": "code",
   "execution_count": 39,
   "metadata": {
    "scrolled": true
   },
   "outputs": [
    {
     "name": "stdout",
     "output_type": "stream",
     "text": [
      "The autoreload extension is already loaded. To reload it, use:\n",
      "  %reload_ext autoreload\n"
     ]
    }
   ],
   "source": [
    "%load_ext autoreload\n",
    "%autoreload 2"
   ]
  },
  {
   "cell_type": "code",
   "execution_count": 40,
   "metadata": {},
   "outputs": [],
   "source": [
    "import numpy as np\n",
    "import pandas as pd\n",
    "import matplotlib.pyplot as plt\n",
    "import os\n",
    "import sys\n",
    "from keras.preprocessing.image import ImageDataGenerator, img_to_array, load_img\n",
    "\n",
    "sys.path.insert(0, '..')\n",
    "from data_wrangling import create_new_folder, get_image_info\n",
    "from preprocessing import delete_corrupt_image"
   ]
  },
  {
   "cell_type": "code",
   "execution_count": 41,
   "metadata": {},
   "outputs": [],
   "source": [
    "train = r'../train_images'\n",
    "val = r'../val_images'\n",
    "test = r'../test_images'"
   ]
  },
  {
   "cell_type": "code",
   "execution_count": 42,
   "metadata": {},
   "outputs": [],
   "source": [
    "train_df = pd.read_csv(r'..\\data\\train.csv')\n",
    "train_df.drop(labels='Unnamed: 0', axis=1,inplace=True)"
   ]
  },
  {
   "cell_type": "code",
   "execution_count": 43,
   "metadata": {},
   "outputs": [
    {
     "name": "stdout",
     "output_type": "stream",
     "text": [
      "Deleted 0 images\n",
      "Deleted 0 images\n",
      "Deleted 0 images\n"
     ]
    }
   ],
   "source": [
    "delete_corrupt_image(train)\n",
    "delete_corrupt_image(val)\n",
    "delete_corrupt_image(test)"
   ]
  },
  {
   "cell_type": "code",
   "execution_count": 44,
   "metadata": {},
   "outputs": [
    {
     "data": {
      "text/plain": [
       "Impressionism             616\n",
       "Cubism                    198\n",
       "Expressionism              87\n",
       "Pop Art                    82\n",
       "Byzantine Art              44\n",
       "Abstract Expressionism     11\n",
       "Name: label, dtype: int64"
      ]
     },
     "execution_count": 44,
     "metadata": {},
     "output_type": "execute_result"
    }
   ],
   "source": [
    "train_df.label.value_counts()"
   ]
  },
  {
   "cell_type": "code",
   "execution_count": 45,
   "metadata": {},
   "outputs": [],
   "source": [
    "#create generator for image augmentation\n",
    "data_gen = ImageDataGenerator(rotation_range=40, \n",
    "                              width_shift_range=0.2,\n",
    "                              height_shift_range=0.2,\n",
    "                              brightness_range=(0.25, 1.0),\n",
    "                              channel_shift_range=0.2,\n",
    "                              shear_range=0.2,\n",
    "                              zoom_range=0.2, \n",
    "                              horizontal_flip=True, \n",
    "                              fill_mode='reflect')"
   ]
  },
  {
   "cell_type": "code",
   "execution_count": 46,
   "metadata": {},
   "outputs": [],
   "source": [
    "#augment data and add samples to smaller classes in training images only\n",
    "#find max number of images for a genre \n",
    "maximum = max(train_df.label.value_counts())\n",
    "\n",
    "for i in train_df.label.unique():\n",
    "    num = int(train_df.label[train_df.label == i].value_counts())\n",
    "    if num < maximum:\n",
    "        sample = list(train_df.filepath.loc[train_df.label == i].sample(frac=.5, replace=False))\n",
    "        for s in sample:\n",
    "            img = load_img(s)\n",
    "            x = img_to_array(img)\n",
    "            x = x.reshape((1,) +x.shape)\n",
    "            count=0\n",
    "            \n",
    "            for batch in data_gen.flow(x, batch_size=1, save_to_dir=os.path.join(train,i),\n",
    "                                      save_prefix=f'{i}_aug', save_format='jpeg'):\n",
    "                count+=1\n",
    "                if count>0:\n",
    "                    break"
   ]
  },
  {
   "cell_type": "code",
   "execution_count": 47,
   "metadata": {},
   "outputs": [],
   "source": [
    "#get image information from train.csv\n",
    "train_aug_df = get_image_info(train)\n",
    "#save training samples to train.csv\n",
    "train_aug_df.to_csv(r'..\\data\\train_augmented.csv')"
   ]
  },
  {
   "cell_type": "code",
   "execution_count": 48,
   "metadata": {},
   "outputs": [
    {
     "data": {
      "text/plain": [
       "Impressionism             616\n",
       "Cubism                    297\n",
       "Expressionism             131\n",
       "Pop Art                   123\n",
       "Byzantine Art              66\n",
       "Abstract Expressionism     17\n",
       "Name: label, dtype: int64"
      ]
     },
     "execution_count": 48,
     "metadata": {},
     "output_type": "execute_result"
    }
   ],
   "source": [
    "train_aug_df.label.value_counts().sum()"
   ]
  },
  {
   "cell_type": "code",
   "execution_count": 49,
   "metadata": {},
   "outputs": [
    {
     "data": {
      "text/plain": [
       "1250"
      ]
     },
     "execution_count": 49,
     "metadata": {},
     "output_type": "execute_result"
    }
   ],
   "source": [
    "train_aug_df.label.value_counts().sum()"
   ]
  }
 ],
 "metadata": {
  "kernelspec": {
   "display_name": "deep learning",
   "language": "python",
   "name": "deep_learning"
  },
  "language_info": {
   "codemirror_mode": {
    "name": "ipython",
    "version": 3
   },
   "file_extension": ".py",
   "mimetype": "text/x-python",
   "name": "python",
   "nbconvert_exporter": "python",
   "pygments_lexer": "ipython3",
   "version": "3.8.5"
  }
 },
 "nbformat": 4,
 "nbformat_minor": 4
}
