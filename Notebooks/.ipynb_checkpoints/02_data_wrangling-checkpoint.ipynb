{
 "cells": [
  {
   "cell_type": "code",
   "execution_count": 99,
   "metadata": {},
   "outputs": [
    {
     "name": "stdout",
     "output_type": "stream",
     "text": [
      "The autoreload extension is already loaded. To reload it, use:\n",
      "  %reload_ext autoreload\n"
     ]
    }
   ],
   "source": [
    "%load_ext autoreload\n",
    "%autoreload 2"
   ]
  },
  {
   "cell_type": "code",
   "execution_count": 100,
   "metadata": {},
   "outputs": [],
   "source": [
    "import os\n",
    "import sys\n",
    "import pandas as pd\n",
    "import numpy as np"
   ]
  },
  {
   "cell_type": "code",
   "execution_count": 101,
   "metadata": {},
   "outputs": [],
   "source": [
    "sys.path.insert(0, '..')\n",
    "from data_wrangling import create_new_folder, clear_old_images, get_sample, get_image_info"
   ]
  },
  {
   "cell_type": "code",
   "execution_count": 102,
   "metadata": {
    "scrolled": false
   },
   "outputs": [],
   "source": [
    "art_data = pd.read_csv('../raw_data/artists.csv')"
   ]
  },
  {
   "cell_type": "code",
   "execution_count": 103,
   "metadata": {},
   "outputs": [],
   "source": [
    "#drop id, years, nationality, bio, wikipedia\n",
    "art_data.drop(labels='id', axis=1, inplace = True)\n",
    "\n",
    "#rename 'Albrecht Dürer' to 'Albrecht Durer'\n",
    "art_data['name'] = art_data['name'].replace(to_replace='Albrecht D.rer', value = 'Albrecht Durer', regex = True)\n",
    "art_data['name'] = art_data['name'].str.replace(' ', '_')"
   ]
  },
  {
   "cell_type": "code",
   "execution_count": 104,
   "metadata": {
    "scrolled": true
   },
   "outputs": [
    {
     "name": "stdout",
     "output_type": "stream",
     "text": [
      "..\\data path already exists\n"
     ]
    }
   ],
   "source": [
    "#create a new folder for the csv files\n",
    "datapath = '..\\data'\n",
    "create_new_folder(datapath)"
   ]
  },
  {
   "cell_type": "code",
   "execution_count": 105,
   "metadata": {
    "scrolled": false
   },
   "outputs": [],
   "source": [
    "#create a new csv file with at most one genre for an artist\n",
    "newfile = 'artists_clean.csv'\n",
    "fullpath = os.path.join(datapath, newfile)\n",
    "art_data.to_csv(fullpath)"
   ]
  },
  {
   "cell_type": "code",
   "execution_count": 111,
   "metadata": {
    "scrolled": true
   },
   "outputs": [],
   "source": [
    "#create data frame with artist name, genre, filename, filepath\n",
    "path = r'..\\raw_images'\n",
    "#get image information\n",
    "art_file = get_image_info(path)"
   ]
  },
  {
   "cell_type": "code",
   "execution_count": 116,
   "metadata": {},
   "outputs": [
    {
     "data": {
      "text/html": [
       "<div>\n",
       "<style scoped>\n",
       "    .dataframe tbody tr th:only-of-type {\n",
       "        vertical-align: middle;\n",
       "    }\n",
       "\n",
       "    .dataframe tbody tr th {\n",
       "        vertical-align: top;\n",
       "    }\n",
       "\n",
       "    .dataframe thead th {\n",
       "        text-align: right;\n",
       "    }\n",
       "</style>\n",
       "<table border=\"1\" class=\"dataframe\">\n",
       "  <thead>\n",
       "    <tr style=\"text-align: right;\">\n",
       "      <th></th>\n",
       "      <th>genre</th>\n",
       "      <th>label</th>\n",
       "    </tr>\n",
       "  </thead>\n",
       "  <tbody>\n",
       "    <tr>\n",
       "      <th>0</th>\n",
       "      <td>Expressionism</td>\n",
       "      <td>Amedeo_Modigliani</td>\n",
       "    </tr>\n",
       "    <tr>\n",
       "      <th>1</th>\n",
       "      <td>Expressionism,Abstractionism</td>\n",
       "      <td>Vasiliy_Kandinskiy</td>\n",
       "    </tr>\n",
       "    <tr>\n",
       "      <th>2</th>\n",
       "      <td>Social Realism,Muralism</td>\n",
       "      <td>Diego_Rivera</td>\n",
       "    </tr>\n",
       "    <tr>\n",
       "      <th>3</th>\n",
       "      <td>Impressionism</td>\n",
       "      <td>Claude_Monet</td>\n",
       "    </tr>\n",
       "    <tr>\n",
       "      <th>4</th>\n",
       "      <td>Surrealism,Impressionism</td>\n",
       "      <td>Rene_Magritte</td>\n",
       "    </tr>\n",
       "    <tr>\n",
       "      <th>5</th>\n",
       "      <td>Surrealism</td>\n",
       "      <td>Salvador_Dali</td>\n",
       "    </tr>\n",
       "    <tr>\n",
       "      <th>6</th>\n",
       "      <td>Realism,Impressionism</td>\n",
       "      <td>Edouard_Manet</td>\n",
       "    </tr>\n",
       "    <tr>\n",
       "      <th>7</th>\n",
       "      <td>Byzantine Art</td>\n",
       "      <td>Andrei_Rublev</td>\n",
       "    </tr>\n",
       "    <tr>\n",
       "      <th>8</th>\n",
       "      <td>Post-Impressionism</td>\n",
       "      <td>Vincent_van_Gogh</td>\n",
       "    </tr>\n",
       "    <tr>\n",
       "      <th>9</th>\n",
       "      <td>Symbolism,Art Nouveau</td>\n",
       "      <td>Gustav_Klimt</td>\n",
       "    </tr>\n",
       "    <tr>\n",
       "      <th>10</th>\n",
       "      <td>Northern Renaissance</td>\n",
       "      <td>Hieronymus_Bosch</td>\n",
       "    </tr>\n",
       "    <tr>\n",
       "      <th>11</th>\n",
       "      <td>Suprematism</td>\n",
       "      <td>Kazimir_Malevich</td>\n",
       "    </tr>\n",
       "    <tr>\n",
       "      <th>12</th>\n",
       "      <td>Symbolism</td>\n",
       "      <td>Mikhail_Vrubel</td>\n",
       "    </tr>\n",
       "    <tr>\n",
       "      <th>13</th>\n",
       "      <td>Cubism</td>\n",
       "      <td>Pablo_Picasso</td>\n",
       "    </tr>\n",
       "    <tr>\n",
       "      <th>14</th>\n",
       "      <td>Baroque</td>\n",
       "      <td>Peter_Paul_Rubens</td>\n",
       "    </tr>\n",
       "    <tr>\n",
       "      <th>15</th>\n",
       "      <td>Impressionism</td>\n",
       "      <td>Pierre-Auguste_Renoir</td>\n",
       "    </tr>\n",
       "    <tr>\n",
       "      <th>16</th>\n",
       "      <td>Romanticism</td>\n",
       "      <td>Francisco_Goya</td>\n",
       "    </tr>\n",
       "    <tr>\n",
       "      <th>17</th>\n",
       "      <td>Primitivism,Surrealism</td>\n",
       "      <td>Frida_Kahlo</td>\n",
       "    </tr>\n",
       "    <tr>\n",
       "      <th>18</th>\n",
       "      <td>Mannerism</td>\n",
       "      <td>El_Greco</td>\n",
       "    </tr>\n",
       "    <tr>\n",
       "      <th>19</th>\n",
       "      <td>Northern Renaissance</td>\n",
       "      <td>Albrecht_Durer</td>\n",
       "    </tr>\n",
       "    <tr>\n",
       "      <th>20</th>\n",
       "      <td>Impressionism</td>\n",
       "      <td>Alfred_Sisley</td>\n",
       "    </tr>\n",
       "    <tr>\n",
       "      <th>21</th>\n",
       "      <td>Northern Renaissance</td>\n",
       "      <td>Pieter_Bruegel</td>\n",
       "    </tr>\n",
       "    <tr>\n",
       "      <th>22</th>\n",
       "      <td>Primitivism</td>\n",
       "      <td>Marc_Chagall</td>\n",
       "    </tr>\n",
       "    <tr>\n",
       "      <th>23</th>\n",
       "      <td>Proto Renaissance</td>\n",
       "      <td>Giotto_di_Bondone</td>\n",
       "    </tr>\n",
       "    <tr>\n",
       "      <th>24</th>\n",
       "      <td>Early Renaissance</td>\n",
       "      <td>Sandro_Botticelli</td>\n",
       "    </tr>\n",
       "    <tr>\n",
       "      <th>25</th>\n",
       "      <td>Baroque</td>\n",
       "      <td>Caravaggio</td>\n",
       "    </tr>\n",
       "    <tr>\n",
       "      <th>26</th>\n",
       "      <td>High Renaissance</td>\n",
       "      <td>Leonardo_da_Vinci</td>\n",
       "    </tr>\n",
       "    <tr>\n",
       "      <th>27</th>\n",
       "      <td>Baroque</td>\n",
       "      <td>Diego_Velazquez</td>\n",
       "    </tr>\n",
       "    <tr>\n",
       "      <th>28</th>\n",
       "      <td>Impressionism,Post-Impressionism</td>\n",
       "      <td>Henri_Matisse</td>\n",
       "    </tr>\n",
       "    <tr>\n",
       "      <th>29</th>\n",
       "      <td>Northern Renaissance</td>\n",
       "      <td>Jan_van_Eyck</td>\n",
       "    </tr>\n",
       "    <tr>\n",
       "      <th>30</th>\n",
       "      <td>Impressionism</td>\n",
       "      <td>Edgar_Degas</td>\n",
       "    </tr>\n",
       "    <tr>\n",
       "      <th>31</th>\n",
       "      <td>Baroque</td>\n",
       "      <td>Rembrandt</td>\n",
       "    </tr>\n",
       "    <tr>\n",
       "      <th>32</th>\n",
       "      <td>High Renaissance,Mannerism</td>\n",
       "      <td>Titian</td>\n",
       "    </tr>\n",
       "    <tr>\n",
       "      <th>33</th>\n",
       "      <td>Post-Impressionism</td>\n",
       "      <td>Henri_de_Toulouse-Lautrec</td>\n",
       "    </tr>\n",
       "    <tr>\n",
       "      <th>34</th>\n",
       "      <td>Realism</td>\n",
       "      <td>Gustave_Courbet</td>\n",
       "    </tr>\n",
       "    <tr>\n",
       "      <th>35</th>\n",
       "      <td>Impressionism,Post-Impressionism</td>\n",
       "      <td>Camille_Pissarro</td>\n",
       "    </tr>\n",
       "    <tr>\n",
       "      <th>36</th>\n",
       "      <td>Romanticism</td>\n",
       "      <td>William_Turner</td>\n",
       "    </tr>\n",
       "    <tr>\n",
       "      <th>37</th>\n",
       "      <td>Symbolism,Expressionism</td>\n",
       "      <td>Edvard_Munch</td>\n",
       "    </tr>\n",
       "    <tr>\n",
       "      <th>38</th>\n",
       "      <td>Post-Impressionism</td>\n",
       "      <td>Paul_Cezanne</td>\n",
       "    </tr>\n",
       "    <tr>\n",
       "      <th>39</th>\n",
       "      <td>Romanticism</td>\n",
       "      <td>Eugene_Delacroix</td>\n",
       "    </tr>\n",
       "    <tr>\n",
       "      <th>40</th>\n",
       "      <td>Primitivism</td>\n",
       "      <td>Henri_Rousseau</td>\n",
       "    </tr>\n",
       "    <tr>\n",
       "      <th>41</th>\n",
       "      <td>Post-Impressionism</td>\n",
       "      <td>Georges_Seurat</td>\n",
       "    </tr>\n",
       "    <tr>\n",
       "      <th>42</th>\n",
       "      <td>Expressionism,Abstractionism,Surrealism</td>\n",
       "      <td>Paul_Klee</td>\n",
       "    </tr>\n",
       "    <tr>\n",
       "      <th>43</th>\n",
       "      <td>Neoplasticism</td>\n",
       "      <td>Piet_Mondrian</td>\n",
       "    </tr>\n",
       "    <tr>\n",
       "      <th>44</th>\n",
       "      <td>Surrealism</td>\n",
       "      <td>Joan_Miro</td>\n",
       "    </tr>\n",
       "    <tr>\n",
       "      <th>45</th>\n",
       "      <td>Pop Art</td>\n",
       "      <td>Andy_Warhol</td>\n",
       "    </tr>\n",
       "    <tr>\n",
       "      <th>46</th>\n",
       "      <td>Symbolism,Post-Impressionism</td>\n",
       "      <td>Paul_Gauguin</td>\n",
       "    </tr>\n",
       "    <tr>\n",
       "      <th>47</th>\n",
       "      <td>High Renaissance</td>\n",
       "      <td>Raphael</td>\n",
       "    </tr>\n",
       "    <tr>\n",
       "      <th>48</th>\n",
       "      <td>High Renaissance</td>\n",
       "      <td>Michelangelo</td>\n",
       "    </tr>\n",
       "    <tr>\n",
       "      <th>49</th>\n",
       "      <td>Abstract Expressionism</td>\n",
       "      <td>Jackson_Pollock</td>\n",
       "    </tr>\n",
       "  </tbody>\n",
       "</table>\n",
       "</div>"
      ],
      "text/plain": [
       "                                      genre                      label\n",
       "0                             Expressionism          Amedeo_Modigliani\n",
       "1              Expressionism,Abstractionism         Vasiliy_Kandinskiy\n",
       "2                   Social Realism,Muralism               Diego_Rivera\n",
       "3                             Impressionism               Claude_Monet\n",
       "4                  Surrealism,Impressionism              Rene_Magritte\n",
       "5                                Surrealism              Salvador_Dali\n",
       "6                     Realism,Impressionism              Edouard_Manet\n",
       "7                             Byzantine Art              Andrei_Rublev\n",
       "8                        Post-Impressionism           Vincent_van_Gogh\n",
       "9                     Symbolism,Art Nouveau               Gustav_Klimt\n",
       "10                     Northern Renaissance           Hieronymus_Bosch\n",
       "11                              Suprematism           Kazimir_Malevich\n",
       "12                                Symbolism             Mikhail_Vrubel\n",
       "13                                   Cubism              Pablo_Picasso\n",
       "14                                  Baroque          Peter_Paul_Rubens\n",
       "15                            Impressionism      Pierre-Auguste_Renoir\n",
       "16                              Romanticism             Francisco_Goya\n",
       "17                   Primitivism,Surrealism                Frida_Kahlo\n",
       "18                                Mannerism                   El_Greco\n",
       "19                     Northern Renaissance             Albrecht_Durer\n",
       "20                            Impressionism              Alfred_Sisley\n",
       "21                     Northern Renaissance             Pieter_Bruegel\n",
       "22                              Primitivism               Marc_Chagall\n",
       "23                        Proto Renaissance          Giotto_di_Bondone\n",
       "24                        Early Renaissance          Sandro_Botticelli\n",
       "25                                  Baroque                 Caravaggio\n",
       "26                         High Renaissance          Leonardo_da_Vinci\n",
       "27                                  Baroque            Diego_Velazquez\n",
       "28         Impressionism,Post-Impressionism              Henri_Matisse\n",
       "29                     Northern Renaissance               Jan_van_Eyck\n",
       "30                            Impressionism                Edgar_Degas\n",
       "31                                  Baroque                  Rembrandt\n",
       "32               High Renaissance,Mannerism                     Titian\n",
       "33                       Post-Impressionism  Henri_de_Toulouse-Lautrec\n",
       "34                                  Realism            Gustave_Courbet\n",
       "35         Impressionism,Post-Impressionism           Camille_Pissarro\n",
       "36                              Romanticism             William_Turner\n",
       "37                  Symbolism,Expressionism               Edvard_Munch\n",
       "38                       Post-Impressionism               Paul_Cezanne\n",
       "39                              Romanticism           Eugene_Delacroix\n",
       "40                              Primitivism             Henri_Rousseau\n",
       "41                       Post-Impressionism             Georges_Seurat\n",
       "42  Expressionism,Abstractionism,Surrealism                  Paul_Klee\n",
       "43                            Neoplasticism              Piet_Mondrian\n",
       "44                               Surrealism                  Joan_Miro\n",
       "45                                  Pop Art                Andy_Warhol\n",
       "46             Symbolism,Post-Impressionism               Paul_Gauguin\n",
       "47                         High Renaissance                    Raphael\n",
       "48                         High Renaissance               Michelangelo\n",
       "49                   Abstract Expressionism            Jackson_Pollock"
      ]
     },
     "execution_count": 116,
     "metadata": {},
     "output_type": "execute_result"
    }
   ],
   "source": [
    "#extract the artist name and genre\n",
    "labels = art_data.loc[:,['name', 'genre']]\n",
    "labels['label'] = labels['name']\n",
    "labels.drop(labels='name', axis=1, inplace=True)"
   ]
  },
  {
   "cell_type": "code",
   "execution_count": 117,
   "metadata": {
    "scrolled": false
   },
   "outputs": [
    {
     "data": {
      "text/html": [
       "<div>\n",
       "<style scoped>\n",
       "    .dataframe tbody tr th:only-of-type {\n",
       "        vertical-align: middle;\n",
       "    }\n",
       "\n",
       "    .dataframe tbody tr th {\n",
       "        vertical-align: top;\n",
       "    }\n",
       "\n",
       "    .dataframe thead th {\n",
       "        text-align: right;\n",
       "    }\n",
       "</style>\n",
       "<table border=\"1\" class=\"dataframe\">\n",
       "  <thead>\n",
       "    <tr style=\"text-align: right;\">\n",
       "      <th></th>\n",
       "      <th>label</th>\n",
       "      <th>filename</th>\n",
       "      <th>filepath</th>\n",
       "      <th>genre</th>\n",
       "    </tr>\n",
       "  </thead>\n",
       "  <tbody>\n",
       "    <tr>\n",
       "      <th>0</th>\n",
       "      <td>Albrecht_Durer</td>\n",
       "      <td>Albrecht_Durer_(1).jpg</td>\n",
       "      <td>..\\raw_images\\Albrecht_Durer\\Albrecht_Durer_(1...</td>\n",
       "      <td>Northern Renaissance</td>\n",
       "    </tr>\n",
       "    <tr>\n",
       "      <th>1</th>\n",
       "      <td>Albrecht_Durer</td>\n",
       "      <td>Albrecht_Durer_(10).jpg</td>\n",
       "      <td>..\\raw_images\\Albrecht_Durer\\Albrecht_Durer_(1...</td>\n",
       "      <td>Northern Renaissance</td>\n",
       "    </tr>\n",
       "    <tr>\n",
       "      <th>2</th>\n",
       "      <td>Albrecht_Durer</td>\n",
       "      <td>Albrecht_Durer_(100).jpg</td>\n",
       "      <td>..\\raw_images\\Albrecht_Durer\\Albrecht_Durer_(1...</td>\n",
       "      <td>Northern Renaissance</td>\n",
       "    </tr>\n",
       "    <tr>\n",
       "      <th>3</th>\n",
       "      <td>Albrecht_Durer</td>\n",
       "      <td>Albrecht_Durer_(101).jpg</td>\n",
       "      <td>..\\raw_images\\Albrecht_Durer\\Albrecht_Durer_(1...</td>\n",
       "      <td>Northern Renaissance</td>\n",
       "    </tr>\n",
       "    <tr>\n",
       "      <th>4</th>\n",
       "      <td>Albrecht_Durer</td>\n",
       "      <td>Albrecht_Durer_(102).jpg</td>\n",
       "      <td>..\\raw_images\\Albrecht_Durer\\Albrecht_Durer_(1...</td>\n",
       "      <td>Northern Renaissance</td>\n",
       "    </tr>\n",
       "  </tbody>\n",
       "</table>\n",
       "</div>"
      ],
      "text/plain": [
       "            label                  filename  \\\n",
       "0  Albrecht_Durer    Albrecht_Durer_(1).jpg   \n",
       "1  Albrecht_Durer   Albrecht_Durer_(10).jpg   \n",
       "2  Albrecht_Durer  Albrecht_Durer_(100).jpg   \n",
       "3  Albrecht_Durer  Albrecht_Durer_(101).jpg   \n",
       "4  Albrecht_Durer  Albrecht_Durer_(102).jpg   \n",
       "\n",
       "                                            filepath                 genre  \n",
       "0  ..\\raw_images\\Albrecht_Durer\\Albrecht_Durer_(1...  Northern Renaissance  \n",
       "1  ..\\raw_images\\Albrecht_Durer\\Albrecht_Durer_(1...  Northern Renaissance  \n",
       "2  ..\\raw_images\\Albrecht_Durer\\Albrecht_Durer_(1...  Northern Renaissance  \n",
       "3  ..\\raw_images\\Albrecht_Durer\\Albrecht_Durer_(1...  Northern Renaissance  \n",
       "4  ..\\raw_images\\Albrecht_Durer\\Albrecht_Durer_(1...  Northern Renaissance  "
      ]
     },
     "execution_count": 117,
     "metadata": {},
     "output_type": "execute_result"
    }
   ],
   "source": [
    "#label each file with their respective genres\n",
    "art_file = art_file.merge(labels, how='left', on='label')\n",
    "art_file.head()"
   ]
  },
  {
   "cell_type": "code",
   "execution_count": 118,
   "metadata": {},
   "outputs": [
    {
     "data": {
      "text/plain": [
       "(6669, 4)"
      ]
     },
     "execution_count": 118,
     "metadata": {},
     "output_type": "execute_result"
    }
   ],
   "source": [
    "#drop artworks with multiple styles\n",
    "art_file = art_file.loc[~art_file.genre.str.contains(',')]\n",
    "art_file.reset_index(inplace=True, drop=True)\n",
    "art_file.shape"
   ]
  },
  {
   "cell_type": "code",
   "execution_count": 119,
   "metadata": {
    "scrolled": true
   },
   "outputs": [],
   "source": [
    "#create a csv file from the new dataframe\n",
    "newfile = 'art_labels.csv'\n",
    "fullpath = os.path.join(datapath, newfile)\n",
    "art_file.to_csv(fullpath)"
   ]
  },
  {
   "cell_type": "code",
   "execution_count": 120,
   "metadata": {},
   "outputs": [],
   "source": [
    "#create a folder to get a sample of training and validation images\n",
    "images = r'../images' #sample images to upload to github; NOTE: this never changes or is used for training and validation\n",
    "train = r'../train_images'\n",
    "val = r'../val_images'\n",
    "test = r'../test_images'"
   ]
  },
  {
   "cell_type": "code",
   "execution_count": 121,
   "metadata": {},
   "outputs": [],
   "source": [
    "images = get_image_info(images)"
   ]
  },
  {
   "cell_type": "code",
   "execution_count": 122,
   "metadata": {},
   "outputs": [],
   "source": [
    "genre_sample = ['Impressionism', 'Cubism', 'Expressionism', 'Pop Art', 'Byzantine Art', 'Abstract Expressionism']"
   ]
  },
  {
   "cell_type": "code",
   "execution_count": 131,
   "metadata": {},
   "outputs": [
    {
     "data": {
      "text/plain": [
       "(667, 4)"
      ]
     },
     "execution_count": 131,
     "metadata": {},
     "output_type": "execute_result"
    }
   ],
   "source": [
    "test_file = art_file[art_file.filename.isin(list(images.filename))]"
   ]
  },
  {
   "cell_type": "code",
   "execution_count": 124,
   "metadata": {
    "scrolled": false
   },
   "outputs": [
    {
     "name": "stdout",
     "output_type": "stream",
     "text": [
      "Checking if ../test_images exists...\n",
      "Clearing any previous samples...\n",
      "Empty directory. Delete ../test_images\\Abstract Expressionism\n",
      "Empty directory. Delete ../test_images\\Byzantine Art\n",
      "Empty directory. Delete ../test_images\\Cubism\n",
      "Empty directory. Delete ../test_images\\Expressionism\n",
      "Empty directory. Delete ../test_images\\Impressionism\n",
      "Empty directory. Delete ../test_images\\Pop Art\n",
      "Deleted 230 images\n",
      "../test_images\\Impressionism created\n",
      "../test_images\\Cubism created\n",
      "../test_images\\Expressionism created\n",
      "../test_images\\Pop Art created\n",
      "../test_images\\Byzantine Art created\n",
      "../test_images\\Abstract Expressionism created\n",
      "Generated 230 new images\n"
     ]
    }
   ],
   "source": [
    "#get specific genres from ../images to test\n",
    "get_sample(test, test_file, genre_sample, 1) #get all images\n",
    "test_df = get_image_info(test)"
   ]
  },
  {
   "cell_type": "code",
   "execution_count": 129,
   "metadata": {},
   "outputs": [
    {
     "data": {
      "text/plain": [
       "(6439, 4)"
      ]
     },
     "execution_count": 129,
     "metadata": {},
     "output_type": "execute_result"
    }
   ],
   "source": [
    "train_file = art_file[~art_file.filename.isin(list(test_df.filename))]\n",
    "train_file.shape"
   ]
  },
  {
   "cell_type": "code",
   "execution_count": 125,
   "metadata": {
    "scrolled": true
   },
   "outputs": [
    {
     "name": "stdout",
     "output_type": "stream",
     "text": [
      "Checking if ../train_images exists...\n",
      "Clearing any previous samples...\n",
      "Empty directory. Delete ../train_images\\Abstract Expressionism\n",
      "Empty directory. Delete ../train_images\\Byzantine Art\n",
      "Empty directory. Delete ../train_images\\Cubism\n",
      "Empty directory. Delete ../train_images\\Expressionism\n",
      "Empty directory. Delete ../train_images\\Impressionism\n",
      "Empty directory. Delete ../train_images\\Pop Art\n",
      "Deleted 2983 images\n",
      "../train_images\\Impressionism created\n",
      "../train_images\\Cubism created\n",
      "../train_images\\Expressionism created\n",
      "../train_images\\Pop Art created\n",
      "../train_images\\Byzantine Art created\n",
      "../train_images\\Abstract Expressionism created\n",
      "Generated 1038 new images\n"
     ]
    }
   ],
   "source": [
    "#get a sample of new images\n",
    "get_sample(train, train_file, genre_sample, .5)\n",
    "train_df = get_image_info(train)\n",
    "train_df.to_csv(r'..\\data\\train.csv')"
   ]
  },
  {
   "cell_type": "code",
   "execution_count": 130,
   "metadata": {},
   "outputs": [
    {
     "data": {
      "text/plain": [
       "(5401, 4)"
      ]
     },
     "execution_count": 130,
     "metadata": {},
     "output_type": "execute_result"
    }
   ],
   "source": [
    "val_file = train_file[~train_file.filename.isin(list(train_df.filename))]\n",
    "val_file.shape"
   ]
  },
  {
   "cell_type": "code",
   "execution_count": 132,
   "metadata": {
    "scrolled": true
   },
   "outputs": [
    {
     "name": "stdout",
     "output_type": "stream",
     "text": [
      "Checking if ../val_images exists...\n",
      "Clearing any previous samples...\n",
      "Empty directory. Delete ../val_images\\Abstract Expressionism\n",
      "Empty directory. Delete ../val_images\\Byzantine Art\n",
      "Empty directory. Delete ../val_images\\Cubism\n",
      "Empty directory. Delete ../val_images\\Expressionism\n",
      "Empty directory. Delete ../val_images\\Impressionism\n",
      "Empty directory. Delete ../val_images\\Pop Art\n",
      "Deleted 518 images\n",
      "../val_images\\Impressionism created\n",
      "../val_images\\Cubism created\n",
      "../val_images\\Expressionism created\n",
      "../val_images\\Pop Art created\n",
      "../val_images\\Byzantine Art created\n",
      "../val_images\\Abstract Expressionism created\n",
      "Generated 206 new images\n"
     ]
    }
   ],
   "source": [
    "get_sample(val, val_file, genre_sample, .2)\n",
    "val_df = get_image_info(val)"
   ]
  },
  {
   "cell_type": "code",
   "execution_count": null,
   "metadata": {},
   "outputs": [],
   "source": []
  }
 ],
 "metadata": {
  "kernelspec": {
   "display_name": "deep learning",
   "language": "python",
   "name": "deep_learning"
  },
  "language_info": {
   "codemirror_mode": {
    "name": "ipython",
    "version": 3
   },
   "file_extension": ".py",
   "mimetype": "text/x-python",
   "name": "python",
   "nbconvert_exporter": "python",
   "pygments_lexer": "ipython3",
   "version": "3.8.5"
  }
 },
 "nbformat": 4,
 "nbformat_minor": 4
}
