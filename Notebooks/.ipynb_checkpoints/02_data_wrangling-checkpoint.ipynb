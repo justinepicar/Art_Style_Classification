{
 "cells": [
  {
   "cell_type": "code",
   "execution_count": 50,
   "metadata": {},
   "outputs": [
    {
     "name": "stdout",
     "output_type": "stream",
     "text": [
      "The autoreload extension is already loaded. To reload it, use:\n",
      "  %reload_ext autoreload\n"
     ]
    }
   ],
   "source": [
    "%load_ext autoreload\n",
    "%autoreload 2"
   ]
  },
  {
   "cell_type": "code",
   "execution_count": 65,
   "metadata": {},
   "outputs": [],
   "source": [
    "import os\n",
    "import sys\n",
    "import pandas as pd\n",
    "import shutil\n",
    "import random\n",
    "import numpy as np"
   ]
  },
  {
   "cell_type": "code",
   "execution_count": 66,
   "metadata": {},
   "outputs": [],
   "source": [
    "sys.path.insert(0, '..')\n",
    "from function import *\n",
    "from createimages import *"
   ]
  },
  {
   "cell_type": "code",
   "execution_count": 67,
   "metadata": {
    "scrolled": true
   },
   "outputs": [
    {
     "data": {
      "text/html": [
       "<div>\n",
       "<style scoped>\n",
       "    .dataframe tbody tr th:only-of-type {\n",
       "        vertical-align: middle;\n",
       "    }\n",
       "\n",
       "    .dataframe tbody tr th {\n",
       "        vertical-align: top;\n",
       "    }\n",
       "\n",
       "    .dataframe thead th {\n",
       "        text-align: right;\n",
       "    }\n",
       "</style>\n",
       "<table border=\"1\" class=\"dataframe\">\n",
       "  <thead>\n",
       "    <tr style=\"text-align: right;\">\n",
       "      <th></th>\n",
       "      <th>id</th>\n",
       "      <th>name</th>\n",
       "      <th>years</th>\n",
       "      <th>genre</th>\n",
       "      <th>nationality</th>\n",
       "      <th>bio</th>\n",
       "      <th>wikipedia</th>\n",
       "      <th>paintings</th>\n",
       "    </tr>\n",
       "  </thead>\n",
       "  <tbody>\n",
       "    <tr>\n",
       "      <th>0</th>\n",
       "      <td>0</td>\n",
       "      <td>Amedeo Modigliani</td>\n",
       "      <td>1884 - 1920</td>\n",
       "      <td>Expressionism</td>\n",
       "      <td>Italian</td>\n",
       "      <td>Amedeo Clemente Modigliani (Italian pronunciat...</td>\n",
       "      <td>http://en.wikipedia.org/wiki/Amedeo_Modigliani</td>\n",
       "      <td>193</td>\n",
       "    </tr>\n",
       "    <tr>\n",
       "      <th>1</th>\n",
       "      <td>1</td>\n",
       "      <td>Vasiliy Kandinskiy</td>\n",
       "      <td>1866 - 1944</td>\n",
       "      <td>Expressionism,Abstractionism</td>\n",
       "      <td>Russian</td>\n",
       "      <td>Wassily Wassilyevich Kandinsky (Russian: Васи́...</td>\n",
       "      <td>http://en.wikipedia.org/wiki/Wassily_Kandinsky</td>\n",
       "      <td>88</td>\n",
       "    </tr>\n",
       "    <tr>\n",
       "      <th>2</th>\n",
       "      <td>2</td>\n",
       "      <td>Diego Rivera</td>\n",
       "      <td>1886 - 1957</td>\n",
       "      <td>Social Realism,Muralism</td>\n",
       "      <td>Mexican</td>\n",
       "      <td>Diego María de la Concepción Juan Nepomuceno E...</td>\n",
       "      <td>http://en.wikipedia.org/wiki/Diego_Rivera</td>\n",
       "      <td>70</td>\n",
       "    </tr>\n",
       "    <tr>\n",
       "      <th>3</th>\n",
       "      <td>3</td>\n",
       "      <td>Claude Monet</td>\n",
       "      <td>1840 - 1926</td>\n",
       "      <td>Impressionism</td>\n",
       "      <td>French</td>\n",
       "      <td>Oscar-Claude Monet (; French: [klod mɔnɛ]; 14 ...</td>\n",
       "      <td>http://en.wikipedia.org/wiki/Claude_Monet</td>\n",
       "      <td>73</td>\n",
       "    </tr>\n",
       "    <tr>\n",
       "      <th>4</th>\n",
       "      <td>4</td>\n",
       "      <td>Rene Magritte</td>\n",
       "      <td>1898 - 1967</td>\n",
       "      <td>Surrealism,Impressionism</td>\n",
       "      <td>Belgian</td>\n",
       "      <td>René François Ghislain Magritte (French: [ʁəne...</td>\n",
       "      <td>http://en.wikipedia.org/wiki/René_Magritte</td>\n",
       "      <td>194</td>\n",
       "    </tr>\n",
       "  </tbody>\n",
       "</table>\n",
       "</div>"
      ],
      "text/plain": [
       "   id                name        years                         genre  \\\n",
       "0   0   Amedeo Modigliani  1884 - 1920                 Expressionism   \n",
       "1   1  Vasiliy Kandinskiy  1866 - 1944  Expressionism,Abstractionism   \n",
       "2   2        Diego Rivera  1886 - 1957       Social Realism,Muralism   \n",
       "3   3        Claude Monet  1840 - 1926                 Impressionism   \n",
       "4   4       Rene Magritte  1898 - 1967      Surrealism,Impressionism   \n",
       "\n",
       "  nationality                                                bio  \\\n",
       "0     Italian  Amedeo Clemente Modigliani (Italian pronunciat...   \n",
       "1     Russian  Wassily Wassilyevich Kandinsky (Russian: Васи́...   \n",
       "2     Mexican  Diego María de la Concepción Juan Nepomuceno E...   \n",
       "3      French  Oscar-Claude Monet (; French: [klod mɔnɛ]; 14 ...   \n",
       "4     Belgian  René François Ghislain Magritte (French: [ʁəne...   \n",
       "\n",
       "                                        wikipedia  paintings  \n",
       "0  http://en.wikipedia.org/wiki/Amedeo_Modigliani        193  \n",
       "1  http://en.wikipedia.org/wiki/Wassily_Kandinsky         88  \n",
       "2       http://en.wikipedia.org/wiki/Diego_Rivera         70  \n",
       "3       http://en.wikipedia.org/wiki/Claude_Monet         73  \n",
       "4      http://en.wikipedia.org/wiki/René_Magritte        194  "
      ]
     },
     "execution_count": 67,
     "metadata": {},
     "output_type": "execute_result"
    }
   ],
   "source": [
    "artists = pd.read_csv('../raw_data/artists.csv')\n",
    "artists.head()"
   ]
  },
  {
   "cell_type": "code",
   "execution_count": 68,
   "metadata": {},
   "outputs": [
    {
     "data": {
      "text/html": [
       "<div>\n",
       "<style scoped>\n",
       "    .dataframe tbody tr th:only-of-type {\n",
       "        vertical-align: middle;\n",
       "    }\n",
       "\n",
       "    .dataframe tbody tr th {\n",
       "        vertical-align: top;\n",
       "    }\n",
       "\n",
       "    .dataframe thead th {\n",
       "        text-align: right;\n",
       "    }\n",
       "</style>\n",
       "<table border=\"1\" class=\"dataframe\">\n",
       "  <thead>\n",
       "    <tr style=\"text-align: right;\">\n",
       "      <th></th>\n",
       "      <th>name</th>\n",
       "      <th>genre</th>\n",
       "      <th>paintings</th>\n",
       "      <th>% of paintings</th>\n",
       "    </tr>\n",
       "  </thead>\n",
       "  <tbody>\n",
       "    <tr>\n",
       "      <th>0</th>\n",
       "      <td>Amedeo_Modigliani</td>\n",
       "      <td>Expressionism</td>\n",
       "      <td>193</td>\n",
       "      <td>2.29</td>\n",
       "    </tr>\n",
       "    <tr>\n",
       "      <th>1</th>\n",
       "      <td>Vasiliy_Kandinskiy</td>\n",
       "      <td>Expressionism,Abstractionism</td>\n",
       "      <td>88</td>\n",
       "      <td>1.04</td>\n",
       "    </tr>\n",
       "    <tr>\n",
       "      <th>2</th>\n",
       "      <td>Diego_Rivera</td>\n",
       "      <td>Social Realism,Muralism</td>\n",
       "      <td>70</td>\n",
       "      <td>0.83</td>\n",
       "    </tr>\n",
       "    <tr>\n",
       "      <th>3</th>\n",
       "      <td>Claude_Monet</td>\n",
       "      <td>Impressionism</td>\n",
       "      <td>73</td>\n",
       "      <td>0.86</td>\n",
       "    </tr>\n",
       "    <tr>\n",
       "      <th>4</th>\n",
       "      <td>Rene_Magritte</td>\n",
       "      <td>Surrealism,Impressionism</td>\n",
       "      <td>194</td>\n",
       "      <td>2.30</td>\n",
       "    </tr>\n",
       "  </tbody>\n",
       "</table>\n",
       "</div>"
      ],
      "text/plain": [
       "                 name                         genre  paintings  % of paintings\n",
       "0   Amedeo_Modigliani                 Expressionism        193            2.29\n",
       "1  Vasiliy_Kandinskiy  Expressionism,Abstractionism         88            1.04\n",
       "2        Diego_Rivera       Social Realism,Muralism         70            0.83\n",
       "3        Claude_Monet                 Impressionism         73            0.86\n",
       "4       Rene_Magritte      Surrealism,Impressionism        194            2.30"
      ]
     },
     "execution_count": 68,
     "metadata": {},
     "output_type": "execute_result"
    }
   ],
   "source": [
    "#make id new index and drop id\n",
    "#artists.index = artists['id']\n",
    "artists.drop(labels=['id','years','nationality','bio', 'wikipedia'], axis=1, inplace = True)\n",
    "#rename 'Albrecht Dürer' to 'Albrecht Durer'\n",
    "artists['name'] = artists['name'].replace(to_replace='Albrecht D.rer', value = 'Albrecht Durer', regex = True)\n",
    "artists['name'] = artists['name'].str.replace(' ', '_')\n",
    "#calculate percentage of paintings against total\n",
    "artists['% of paintings'] = round(artists.paintings/artists.paintings.sum()*100, 2)\n",
    "artists.head()"
   ]
  },
  {
   "cell_type": "code",
   "execution_count": 69,
   "metadata": {
    "scrolled": true
   },
   "outputs": [
    {
     "data": {
      "text/html": [
       "<div>\n",
       "<style scoped>\n",
       "    .dataframe tbody tr th:only-of-type {\n",
       "        vertical-align: middle;\n",
       "    }\n",
       "\n",
       "    .dataframe tbody tr th {\n",
       "        vertical-align: top;\n",
       "    }\n",
       "\n",
       "    .dataframe thead th {\n",
       "        text-align: right;\n",
       "    }\n",
       "</style>\n",
       "<table border=\"1\" class=\"dataframe\">\n",
       "  <thead>\n",
       "    <tr style=\"text-align: right;\">\n",
       "      <th></th>\n",
       "      <th>name</th>\n",
       "      <th>filename</th>\n",
       "      <th>filepath</th>\n",
       "    </tr>\n",
       "  </thead>\n",
       "  <tbody>\n",
       "    <tr>\n",
       "      <th>0</th>\n",
       "      <td>Albrecht_Durer</td>\n",
       "      <td>Albrecht_Durer_(1).jpg</td>\n",
       "      <td>..\\raw_images\\Albrecht_Durer\\Albrecht_Durer_(1...</td>\n",
       "    </tr>\n",
       "    <tr>\n",
       "      <th>1</th>\n",
       "      <td>Albrecht_Durer</td>\n",
       "      <td>Albrecht_Durer_(10).jpg</td>\n",
       "      <td>..\\raw_images\\Albrecht_Durer\\Albrecht_Durer_(1...</td>\n",
       "    </tr>\n",
       "    <tr>\n",
       "      <th>2</th>\n",
       "      <td>Albrecht_Durer</td>\n",
       "      <td>Albrecht_Durer_(100).jpg</td>\n",
       "      <td>..\\raw_images\\Albrecht_Durer\\Albrecht_Durer_(1...</td>\n",
       "    </tr>\n",
       "    <tr>\n",
       "      <th>3</th>\n",
       "      <td>Albrecht_Durer</td>\n",
       "      <td>Albrecht_Durer_(101).jpg</td>\n",
       "      <td>..\\raw_images\\Albrecht_Durer\\Albrecht_Durer_(1...</td>\n",
       "    </tr>\n",
       "    <tr>\n",
       "      <th>4</th>\n",
       "      <td>Albrecht_Durer</td>\n",
       "      <td>Albrecht_Durer_(102).jpg</td>\n",
       "      <td>..\\raw_images\\Albrecht_Durer\\Albrecht_Durer_(1...</td>\n",
       "    </tr>\n",
       "  </tbody>\n",
       "</table>\n",
       "</div>"
      ],
      "text/plain": [
       "             name                  filename  \\\n",
       "0  Albrecht_Durer    Albrecht_Durer_(1).jpg   \n",
       "1  Albrecht_Durer   Albrecht_Durer_(10).jpg   \n",
       "2  Albrecht_Durer  Albrecht_Durer_(100).jpg   \n",
       "3  Albrecht_Durer  Albrecht_Durer_(101).jpg   \n",
       "4  Albrecht_Durer  Albrecht_Durer_(102).jpg   \n",
       "\n",
       "                                            filepath  \n",
       "0  ..\\raw_images\\Albrecht_Durer\\Albrecht_Durer_(1...  \n",
       "1  ..\\raw_images\\Albrecht_Durer\\Albrecht_Durer_(1...  \n",
       "2  ..\\raw_images\\Albrecht_Durer\\Albrecht_Durer_(1...  \n",
       "3  ..\\raw_images\\Albrecht_Durer\\Albrecht_Durer_(1...  \n",
       "4  ..\\raw_images\\Albrecht_Durer\\Albrecht_Durer_(1...  "
      ]
     },
     "execution_count": 69,
     "metadata": {},
     "output_type": "execute_result"
    }
   ],
   "source": [
    "#create data frame with artist name, genre, filename, filepath\n",
    "path = r'..\\raw_images'\n",
    "\n",
    "#get image information\n",
    "img_info = get_image_info(path)\n",
    "\n",
    "#convert lists to dataframe\n",
    "zipped = zip(['name', 'filename', 'filepath'], img_info)\n",
    "artlabels = pd.DataFrame(dict(list(zipped)))\n",
    "artlabels.head()"
   ]
  },
  {
   "cell_type": "code",
   "execution_count": 70,
   "metadata": {
    "scrolled": true
   },
   "outputs": [
    {
     "data": {
      "text/html": [
       "<div>\n",
       "<style scoped>\n",
       "    .dataframe tbody tr th:only-of-type {\n",
       "        vertical-align: middle;\n",
       "    }\n",
       "\n",
       "    .dataframe tbody tr th {\n",
       "        vertical-align: top;\n",
       "    }\n",
       "\n",
       "    .dataframe thead th {\n",
       "        text-align: right;\n",
       "    }\n",
       "</style>\n",
       "<table border=\"1\" class=\"dataframe\">\n",
       "  <thead>\n",
       "    <tr style=\"text-align: right;\">\n",
       "      <th></th>\n",
       "      <th>name</th>\n",
       "      <th>filename</th>\n",
       "      <th>filepath</th>\n",
       "      <th>genre</th>\n",
       "    </tr>\n",
       "  </thead>\n",
       "  <tbody>\n",
       "    <tr>\n",
       "      <th>0</th>\n",
       "      <td>Albrecht_Durer</td>\n",
       "      <td>Albrecht_Durer_(1).jpg</td>\n",
       "      <td>..\\raw_images\\Albrecht_Durer\\Albrecht_Durer_(1...</td>\n",
       "      <td>Northern Renaissance</td>\n",
       "    </tr>\n",
       "    <tr>\n",
       "      <th>1</th>\n",
       "      <td>Albrecht_Durer</td>\n",
       "      <td>Albrecht_Durer_(10).jpg</td>\n",
       "      <td>..\\raw_images\\Albrecht_Durer\\Albrecht_Durer_(1...</td>\n",
       "      <td>Northern Renaissance</td>\n",
       "    </tr>\n",
       "    <tr>\n",
       "      <th>2</th>\n",
       "      <td>Albrecht_Durer</td>\n",
       "      <td>Albrecht_Durer_(100).jpg</td>\n",
       "      <td>..\\raw_images\\Albrecht_Durer\\Albrecht_Durer_(1...</td>\n",
       "      <td>Northern Renaissance</td>\n",
       "    </tr>\n",
       "    <tr>\n",
       "      <th>3</th>\n",
       "      <td>Albrecht_Durer</td>\n",
       "      <td>Albrecht_Durer_(101).jpg</td>\n",
       "      <td>..\\raw_images\\Albrecht_Durer\\Albrecht_Durer_(1...</td>\n",
       "      <td>Northern Renaissance</td>\n",
       "    </tr>\n",
       "    <tr>\n",
       "      <th>4</th>\n",
       "      <td>Albrecht_Durer</td>\n",
       "      <td>Albrecht_Durer_(102).jpg</td>\n",
       "      <td>..\\raw_images\\Albrecht_Durer\\Albrecht_Durer_(1...</td>\n",
       "      <td>Northern Renaissance</td>\n",
       "    </tr>\n",
       "  </tbody>\n",
       "</table>\n",
       "</div>"
      ],
      "text/plain": [
       "             name                  filename  \\\n",
       "0  Albrecht_Durer    Albrecht_Durer_(1).jpg   \n",
       "1  Albrecht_Durer   Albrecht_Durer_(10).jpg   \n",
       "2  Albrecht_Durer  Albrecht_Durer_(100).jpg   \n",
       "3  Albrecht_Durer  Albrecht_Durer_(101).jpg   \n",
       "4  Albrecht_Durer  Albrecht_Durer_(102).jpg   \n",
       "\n",
       "                                            filepath                 genre  \n",
       "0  ..\\raw_images\\Albrecht_Durer\\Albrecht_Durer_(1...  Northern Renaissance  \n",
       "1  ..\\raw_images\\Albrecht_Durer\\Albrecht_Durer_(1...  Northern Renaissance  \n",
       "2  ..\\raw_images\\Albrecht_Durer\\Albrecht_Durer_(1...  Northern Renaissance  \n",
       "3  ..\\raw_images\\Albrecht_Durer\\Albrecht_Durer_(1...  Northern Renaissance  \n",
       "4  ..\\raw_images\\Albrecht_Durer\\Albrecht_Durer_(1...  Northern Renaissance  "
      ]
     },
     "execution_count": 70,
     "metadata": {},
     "output_type": "execute_result"
    }
   ],
   "source": [
    "#extract the artist name and genre\n",
    "genre = artists.loc[:,['name', 'genre']]\n",
    "\n",
    "#label each file with their respective genres\n",
    "artlabels = artlabels.merge(genre, how='left', on='name')\n",
    "artlabels.head()"
   ]
  },
  {
   "cell_type": "code",
   "execution_count": 71,
   "metadata": {
    "scrolled": true
   },
   "outputs": [
    {
     "name": "stdout",
     "output_type": "stream",
     "text": [
      "..\\data path already exists\n"
     ]
    }
   ],
   "source": [
    "#create a new folder for the csv files\n",
    "datapath = '..\\data'\n",
    "create_new_folder(datapath)"
   ]
  },
  {
   "cell_type": "code",
   "execution_count": 72,
   "metadata": {
    "scrolled": false
   },
   "outputs": [],
   "source": [
    "#create a new csv file with at most one genre for an artist\n",
    "#uniqueartlabels = artlabels[~artlabels.genre.str.contains(',')]\n",
    "#uniqueartlabels.reset_index(drop=True, inplace=True)\n",
    "\n",
    "newfile = 'artists_clean.csv'\n",
    "fullpath = os.path.join(datapath, newfile)\n",
    "artists.to_csv(fullpath)"
   ]
  },
  {
   "cell_type": "code",
   "execution_count": 73,
   "metadata": {
    "scrolled": true
   },
   "outputs": [],
   "source": [
    "#create a csv file from the new dataframe\n",
    "newfile = 'artlabels.csv'\n",
    "fullpath = os.path.join(datapath, newfile)\n",
    "artlabels.to_csv(fullpath)"
   ]
  },
  {
   "cell_type": "code",
   "execution_count": 74,
   "metadata": {
    "scrolled": false
   },
   "outputs": [
    {
     "name": "stdout",
     "output_type": "stream",
     "text": [
      "Sample for Amedeo_Modigliani : 14\n",
      "Sample for Vasiliy_Kandinskiy : 6\n",
      "Sample for Diego_Rivera : 5\n",
      "Sample for Claude_Monet : 5\n",
      "Sample for Rene_Magritte : 14\n",
      "Sample for Salvador_Dali : 10\n",
      "Sample for Edouard_Manet : 6\n",
      "Sample for Andrei_Rublev : 7\n",
      "Sample for Vincent_van_Gogh : 62\n",
      "Sample for Gustav_Klimt : 8\n",
      "Sample for Hieronymus_Bosch : 10\n",
      "Sample for Kazimir_Malevich : 9\n",
      "Sample for Mikhail_Vrubel : 12\n",
      "Sample for Pablo_Picasso : 31\n",
      "Sample for Peter_Paul_Rubens : 10\n",
      "Sample for Pierre-Auguste_Renoir : 24\n",
      "Sample for Francisco_Goya : 21\n",
      "Sample for Frida_Kahlo : 9\n",
      "Sample for El_Greco : 6\n",
      "Sample for Albrecht_Durer : 23\n",
      "Sample for Alfred_Sisley : 18\n",
      "Sample for Pieter_Bruegel : 10\n",
      "Sample for Marc_Chagall : 17\n",
      "Sample for Giotto_di_Bondone : 8\n",
      "Sample for Sandro_Botticelli : 12\n",
      "Sample for Caravaggio : 4\n",
      "Sample for Leonardo_da_Vinci : 10\n",
      "Sample for Diego_Velazquez : 9\n",
      "Sample for Henri_Matisse : 13\n",
      "Sample for Jan_van_Eyck : 6\n",
      "Sample for Edgar_Degas : 50\n",
      "Sample for Rembrandt : 19\n",
      "Sample for Titian : 18\n",
      "Sample for Henri_de_Toulouse-Lautrec : 6\n",
      "Sample for Gustave_Courbet : 4\n",
      "Sample for Camille_Pissarro : 6\n",
      "Sample for William_Turner : 5\n",
      "Sample for Edvard_Munch : 5\n",
      "Sample for Paul_Cezanne : 3\n",
      "Sample for Eugene_Delacroix : 2\n",
      "Sample for Henri_Rousseau : 5\n",
      "Sample for Georges_Seurat : 3\n",
      "Sample for Paul_Klee : 13\n",
      "Sample for Piet_Mondrian : 6\n",
      "Sample for Joan_Miro : 7\n",
      "Sample for Andy_Warhol : 13\n",
      "Sample for Paul_Gauguin : 22\n",
      "Sample for Raphael : 8\n",
      "Sample for Michelangelo : 3\n",
      "Sample for Jackson_Pollock : 2\n",
      "Deleted 3 images\n",
      "Generated 599 new images\n"
     ]
    }
   ],
   "source": [
    "#clear old images to procure a new sample\n",
    "rawpath = r'..\\raw_images'\n",
    "imagepath = r'..\\images'\n",
    "sample_list = get_random_imgs(rawpath, imagepath, artists, 6)"
   ]
  },
  {
   "cell_type": "code",
   "execution_count": 75,
   "metadata": {
    "scrolled": true
   },
   "outputs": [],
   "source": [
    "df_sample = pd.DataFrame(columns=['label', 'filename'])\n",
    "for i in range(len(sample_list)):\n",
    "    df_sample.loc[i] = sample_list[i]  "
   ]
  },
  {
   "cell_type": "code",
   "execution_count": 76,
   "metadata": {},
   "outputs": [
    {
     "data": {
      "text/plain": [
       "(599, 2)"
      ]
     },
     "execution_count": 76,
     "metadata": {},
     "output_type": "execute_result"
    }
   ],
   "source": [
    "df_sample.shape"
   ]
  },
  {
   "cell_type": "code",
   "execution_count": 77,
   "metadata": {},
   "outputs": [
    {
     "data": {
      "text/html": [
       "<div>\n",
       "<style scoped>\n",
       "    .dataframe tbody tr th:only-of-type {\n",
       "        vertical-align: middle;\n",
       "    }\n",
       "\n",
       "    .dataframe tbody tr th {\n",
       "        vertical-align: top;\n",
       "    }\n",
       "\n",
       "    .dataframe thead th {\n",
       "        text-align: right;\n",
       "    }\n",
       "</style>\n",
       "<table border=\"1\" class=\"dataframe\">\n",
       "  <thead>\n",
       "    <tr style=\"text-align: right;\">\n",
       "      <th></th>\n",
       "      <th>label</th>\n",
       "      <th>filename</th>\n",
       "    </tr>\n",
       "  </thead>\n",
       "  <tbody>\n",
       "    <tr>\n",
       "      <th>0</th>\n",
       "      <td>Expressionism</td>\n",
       "      <td>Amedeo_Modigliani_191.jpg</td>\n",
       "    </tr>\n",
       "    <tr>\n",
       "      <th>1</th>\n",
       "      <td>Expressionism</td>\n",
       "      <td>Amedeo_Modigliani_151.jpg</td>\n",
       "    </tr>\n",
       "    <tr>\n",
       "      <th>2</th>\n",
       "      <td>Expressionism</td>\n",
       "      <td>Amedeo_Modigliani_144.jpg</td>\n",
       "    </tr>\n",
       "    <tr>\n",
       "      <th>3</th>\n",
       "      <td>Expressionism</td>\n",
       "      <td>Amedeo_Modigliani_127.jpg</td>\n",
       "    </tr>\n",
       "    <tr>\n",
       "      <th>4</th>\n",
       "      <td>Expressionism</td>\n",
       "      <td>Amedeo_Modigliani_116.jpg</td>\n",
       "    </tr>\n",
       "  </tbody>\n",
       "</table>\n",
       "</div>"
      ],
      "text/plain": [
       "           label                   filename\n",
       "0  Expressionism  Amedeo_Modigliani_191.jpg\n",
       "1  Expressionism  Amedeo_Modigliani_151.jpg\n",
       "2  Expressionism  Amedeo_Modigliani_144.jpg\n",
       "3  Expressionism  Amedeo_Modigliani_127.jpg\n",
       "4  Expressionism  Amedeo_Modigliani_116.jpg"
      ]
     },
     "execution_count": 77,
     "metadata": {},
     "output_type": "execute_result"
    }
   ],
   "source": [
    "df_sample.head()"
   ]
  },
  {
   "cell_type": "code",
   "execution_count": 78,
   "metadata": {},
   "outputs": [],
   "source": [
    "df_sample.to_csv(r'..\\data\\sample.csv')"
   ]
  },
  {
   "cell_type": "code",
   "execution_count": 79,
   "metadata": {},
   "outputs": [
    {
     "data": {
      "text/plain": [
       "50"
      ]
     },
     "execution_count": 79,
     "metadata": {},
     "output_type": "execute_result"
    }
   ],
   "source": [
    "len(artists)"
   ]
  },
  {
   "cell_type": "code",
   "execution_count": 21,
   "metadata": {},
   "outputs": [
    {
     "data": {
      "text/plain": [
       "0             Amedeo_Modigliani\n",
       "1            Vasiliy_Kandinskiy\n",
       "2                  Diego_Rivera\n",
       "3                  Claude_Monet\n",
       "4                 Rene_Magritte\n",
       "5                 Salvador_Dali\n",
       "6                 Edouard_Manet\n",
       "7                 Andrei_Rublev\n",
       "8              Vincent_van_Gogh\n",
       "9                  Gustav_Klimt\n",
       "10             Hieronymus_Bosch\n",
       "11             Kazimir_Malevich\n",
       "12               Mikhail_Vrubel\n",
       "13                Pablo_Picasso\n",
       "14            Peter_Paul_Rubens\n",
       "15        Pierre-Auguste_Renoir\n",
       "16               Francisco_Goya\n",
       "17                  Frida_Kahlo\n",
       "18                     El_Greco\n",
       "19               Albrecht_Durer\n",
       "20                Alfred_Sisley\n",
       "21               Pieter_Bruegel\n",
       "22                 Marc_Chagall\n",
       "23            Giotto_di_Bondone\n",
       "24            Sandro_Botticelli\n",
       "25                   Caravaggio\n",
       "26            Leonardo_da_Vinci\n",
       "27              Diego_Velazquez\n",
       "28                Henri_Matisse\n",
       "29                 Jan_van_Eyck\n",
       "30                  Edgar_Degas\n",
       "31                    Rembrandt\n",
       "32                       Titian\n",
       "33    Henri_de_Toulouse-Lautrec\n",
       "34              Gustave_Courbet\n",
       "35             Camille_Pissarro\n",
       "36               William_Turner\n",
       "37                 Edvard_Munch\n",
       "38                 Paul_Cezanne\n",
       "39             Eugene_Delacroix\n",
       "40               Henri_Rousseau\n",
       "41               Georges_Seurat\n",
       "42                    Paul_Klee\n",
       "43                Piet_Mondrian\n",
       "44                    Joan_Miro\n",
       "45                  Andy_Warhol\n",
       "46                 Paul_Gauguin\n",
       "47                      Raphael\n",
       "48                 Michelangelo\n",
       "49              Jackson_Pollock\n",
       "Name: name, dtype: object"
      ]
     },
     "execution_count": 21,
     "metadata": {},
     "output_type": "execute_result"
    }
   ],
   "source": [
    "artists.name"
   ]
  },
  {
   "cell_type": "code",
   "execution_count": 22,
   "metadata": {},
   "outputs": [
    {
     "data": {
      "text/plain": [
       "0      2.285105\n",
       "1      1.041913\n",
       "2      0.828795\n",
       "3      0.864314\n",
       "4      2.296945\n",
       "5      1.645749\n",
       "6      1.065593\n",
       "7      1.172152\n",
       "8     10.383614\n",
       "9      1.385271\n",
       "10     1.622070\n",
       "11     1.491830\n",
       "12     2.024627\n",
       "13     5.197727\n",
       "14     1.669429\n",
       "15     3.978215\n",
       "16     3.445418\n",
       "17     1.420791\n",
       "18     1.030073\n",
       "19     3.883495\n",
       "20     3.066540\n",
       "21     1.586550\n",
       "22     2.829742\n",
       "23     1.408951\n",
       "24     1.941748\n",
       "25     0.651196\n",
       "26     1.693109\n",
       "27     1.515510\n",
       "28     2.202226\n",
       "29     0.959034\n",
       "30     8.311627\n",
       "31     3.102060\n",
       "32     3.019181\n",
       "33     0.959034\n",
       "34     0.698556\n",
       "35     1.077433\n",
       "36     0.781435\n",
       "37     0.793275\n",
       "38     0.556476\n",
       "39     0.367038\n",
       "40     0.828795\n",
       "41     0.509117\n",
       "42     2.225906\n",
       "43     0.994554\n",
       "44     1.207672\n",
       "45     2.143026\n",
       "46     3.682216\n",
       "47     1.290552\n",
       "48     0.580156\n",
       "49     0.284158\n",
       "Name: % of paintings, dtype: float64"
      ]
     },
     "execution_count": 22,
     "metadata": {},
     "output_type": "execute_result"
    }
   ],
   "source": [
    "artists['% of paintings']"
   ]
  },
  {
   "cell_type": "code",
   "execution_count": null,
   "metadata": {},
   "outputs": [],
   "source": []
  },
  {
   "cell_type": "code",
   "execution_count": 44,
   "metadata": {},
   "outputs": [],
   "source": [
    "def get_random_igs(oldpath, newpath, df, qty):\n",
    "    '''\n",
    "    generate a random sample of files with \n",
    "    at most the given qty from each artist\n",
    "    to each newly created folder\n",
    "    returns dataframe of files sampled with labels'''\n",
    "    \n",
    "    sample_list = [] #pd.DataFrame(columns=['label', 'filename'])\n",
    "    num_skipped = 0\n",
    "    copied = 0\n",
    "    \n",
    "    if os.path.exists(newpath):\n",
    "        num_skipped = clear_old_images(newpath, df) \n",
    "\n",
    "    for i in range(len(df)):\n",
    "        rawpath = os.path.join(oldpath, df.name[i])\n",
    "        files = [f for f in os.listdir(rawpath)]# if os.path.isdir(f)]\n",
    "        random_files = np.random.choice(files, int(round(qty*df['% of paintings'][i])))                              \n",
    "        imgpath = os.path.join(newpath, df.genre[i])\n",
    "        #check if folder exists; if it exists, clear any old residual images before new samples\n",
    "        if os.path.exists(imgpath):\n",
    "            pass\n",
    "        #    num_skipped+=clear_old_images(imgpath)\n",
    "        else:\n",
    "            create_new_folder(imgpath)\n",
    "        #create a dataframe to return label and filename  \n",
    "        for copy in random_files:\n",
    "            path_to_copy = os.path.join(rawpath, copy)\n",
    "            shutil.copy(path_to_copy, imgpath)\n",
    "            sample_list.append([df.genre[i], copy]) #append(path_to_copy) #df.genre[i] and copy\n",
    "            copied += 1\n",
    "    \n",
    "            \n",
    "    print(\"Deleted %d images\" % num_skipped)\n",
    "    print(\"Generated %d new images\" % copied)\n",
    "    \n",
    "    return sample_list"
   ]
  },
  {
   "cell_type": "code",
   "execution_count": 12,
   "metadata": {},
   "outputs": [],
   "source": [
    "def clear_old_images(path, df):\n",
    "    num_skipped = 0\n",
    "    #listdir = os.listdir(imagepath)\n",
    "    #number_files = len(listdir)\n",
    "\n",
    "    #if number_files >= df.sample_quantity.sum(): #num_folders >= len(artlabels.genre.unique())\n",
    "    for i in range(len(df)):\n",
    "        imgpath = os.path.join(path, df.genre[i])\n",
    "        if os.path.exists(imgpath):\n",
    "            for fname in os.listdir(imgpath):\n",
    "                #if not fname.startswith('.'):\n",
    "                fpath = os.path.join(imgpath, fname)\n",
    "                #print(fpath)\n",
    "                num_skipped += 1\n",
    "                #Delete image\n",
    "                os.remove(fpath)\n",
    "    #print(\"Deleted %d images\" % num_skipped) #from % imagepath\n",
    "\n",
    "    return num_skipped"
   ]
  }
 ],
 "metadata": {
  "kernelspec": {
   "display_name": "deep learning",
   "language": "python",
   "name": "deep_learning"
  },
  "language_info": {
   "codemirror_mode": {
    "name": "ipython",
    "version": 3
   },
   "file_extension": ".py",
   "mimetype": "text/x-python",
   "name": "python",
   "nbconvert_exporter": "python",
   "pygments_lexer": "ipython3",
   "version": "3.8.5"
  }
 },
 "nbformat": 4,
 "nbformat_minor": 4
}
