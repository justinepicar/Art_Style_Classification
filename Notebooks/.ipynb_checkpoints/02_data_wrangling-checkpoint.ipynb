{
 "cells": [
  {
   "cell_type": "code",
   "execution_count": 13,
   "metadata": {},
   "outputs": [
    {
     "name": "stdout",
     "output_type": "stream",
     "text": [
      "The autoreload extension is already loaded. To reload it, use:\n",
      "  %reload_ext autoreload\n"
     ]
    }
   ],
   "source": [
    "%load_ext autoreload\n",
    "%autoreload 2"
   ]
  },
  {
   "cell_type": "code",
   "execution_count": 1,
   "metadata": {},
   "outputs": [],
   "source": [
    "import os\n",
    "import sys\n",
    "import pandas as pd\n",
    "import shutil\n",
    "import random\n",
    "import numpy as np"
   ]
  },
  {
   "cell_type": "code",
   "execution_count": 2,
   "metadata": {},
   "outputs": [],
   "source": [
    "sys.path.insert(0, '..')\n",
    "from function import *\n",
    "from createimages import *"
   ]
  },
  {
   "cell_type": "code",
   "execution_count": 8,
   "metadata": {
    "scrolled": false
   },
   "outputs": [
    {
     "data": {
      "text/html": [
       "<div>\n",
       "<style scoped>\n",
       "    .dataframe tbody tr th:only-of-type {\n",
       "        vertical-align: middle;\n",
       "    }\n",
       "\n",
       "    .dataframe tbody tr th {\n",
       "        vertical-align: top;\n",
       "    }\n",
       "\n",
       "    .dataframe thead th {\n",
       "        text-align: right;\n",
       "    }\n",
       "</style>\n",
       "<table border=\"1\" class=\"dataframe\">\n",
       "  <thead>\n",
       "    <tr style=\"text-align: right;\">\n",
       "      <th></th>\n",
       "      <th>id</th>\n",
       "      <th>name</th>\n",
       "      <th>years</th>\n",
       "      <th>genre</th>\n",
       "      <th>nationality</th>\n",
       "      <th>bio</th>\n",
       "      <th>wikipedia</th>\n",
       "      <th>paintings</th>\n",
       "    </tr>\n",
       "  </thead>\n",
       "  <tbody>\n",
       "    <tr>\n",
       "      <th>0</th>\n",
       "      <td>0</td>\n",
       "      <td>Amedeo Modigliani</td>\n",
       "      <td>1884 - 1920</td>\n",
       "      <td>Expressionism</td>\n",
       "      <td>Italian</td>\n",
       "      <td>Amedeo Clemente Modigliani (Italian pronunciat...</td>\n",
       "      <td>http://en.wikipedia.org/wiki/Amedeo_Modigliani</td>\n",
       "      <td>193</td>\n",
       "    </tr>\n",
       "    <tr>\n",
       "      <th>1</th>\n",
       "      <td>1</td>\n",
       "      <td>Vasiliy Kandinskiy</td>\n",
       "      <td>1866 - 1944</td>\n",
       "      <td>Expressionism,Abstractionism</td>\n",
       "      <td>Russian</td>\n",
       "      <td>Wassily Wassilyevich Kandinsky (Russian: Васи́...</td>\n",
       "      <td>http://en.wikipedia.org/wiki/Wassily_Kandinsky</td>\n",
       "      <td>88</td>\n",
       "    </tr>\n",
       "    <tr>\n",
       "      <th>2</th>\n",
       "      <td>2</td>\n",
       "      <td>Diego Rivera</td>\n",
       "      <td>1886 - 1957</td>\n",
       "      <td>Social Realism,Muralism</td>\n",
       "      <td>Mexican</td>\n",
       "      <td>Diego María de la Concepción Juan Nepomuceno E...</td>\n",
       "      <td>http://en.wikipedia.org/wiki/Diego_Rivera</td>\n",
       "      <td>70</td>\n",
       "    </tr>\n",
       "    <tr>\n",
       "      <th>3</th>\n",
       "      <td>3</td>\n",
       "      <td>Claude Monet</td>\n",
       "      <td>1840 - 1926</td>\n",
       "      <td>Impressionism</td>\n",
       "      <td>French</td>\n",
       "      <td>Oscar-Claude Monet (; French: [klod mɔnɛ]; 14 ...</td>\n",
       "      <td>http://en.wikipedia.org/wiki/Claude_Monet</td>\n",
       "      <td>73</td>\n",
       "    </tr>\n",
       "    <tr>\n",
       "      <th>4</th>\n",
       "      <td>4</td>\n",
       "      <td>Rene Magritte</td>\n",
       "      <td>1898 - 1967</td>\n",
       "      <td>Surrealism,Impressionism</td>\n",
       "      <td>Belgian</td>\n",
       "      <td>René François Ghislain Magritte (French: [ʁəne...</td>\n",
       "      <td>http://en.wikipedia.org/wiki/René_Magritte</td>\n",
       "      <td>194</td>\n",
       "    </tr>\n",
       "  </tbody>\n",
       "</table>\n",
       "</div>"
      ],
      "text/plain": [
       "   id                name        years                         genre  \\\n",
       "0   0   Amedeo Modigliani  1884 - 1920                 Expressionism   \n",
       "1   1  Vasiliy Kandinskiy  1866 - 1944  Expressionism,Abstractionism   \n",
       "2   2        Diego Rivera  1886 - 1957       Social Realism,Muralism   \n",
       "3   3        Claude Monet  1840 - 1926                 Impressionism   \n",
       "4   4       Rene Magritte  1898 - 1967      Surrealism,Impressionism   \n",
       "\n",
       "  nationality                                                bio  \\\n",
       "0     Italian  Amedeo Clemente Modigliani (Italian pronunciat...   \n",
       "1     Russian  Wassily Wassilyevich Kandinsky (Russian: Васи́...   \n",
       "2     Mexican  Diego María de la Concepción Juan Nepomuceno E...   \n",
       "3      French  Oscar-Claude Monet (; French: [klod mɔnɛ]; 14 ...   \n",
       "4     Belgian  René François Ghislain Magritte (French: [ʁəne...   \n",
       "\n",
       "                                        wikipedia  paintings  \n",
       "0  http://en.wikipedia.org/wiki/Amedeo_Modigliani        193  \n",
       "1  http://en.wikipedia.org/wiki/Wassily_Kandinsky         88  \n",
       "2       http://en.wikipedia.org/wiki/Diego_Rivera         70  \n",
       "3       http://en.wikipedia.org/wiki/Claude_Monet         73  \n",
       "4      http://en.wikipedia.org/wiki/René_Magritte        194  "
      ]
     },
     "execution_count": 8,
     "metadata": {},
     "output_type": "execute_result"
    }
   ],
   "source": [
    "artists = pd.read_csv('../raw_data/artists.csv')\n",
    "artists.head()"
   ]
  },
  {
   "cell_type": "code",
   "execution_count": 9,
   "metadata": {},
   "outputs": [
    {
     "data": {
      "text/html": [
       "<div>\n",
       "<style scoped>\n",
       "    .dataframe tbody tr th:only-of-type {\n",
       "        vertical-align: middle;\n",
       "    }\n",
       "\n",
       "    .dataframe tbody tr th {\n",
       "        vertical-align: top;\n",
       "    }\n",
       "\n",
       "    .dataframe thead th {\n",
       "        text-align: right;\n",
       "    }\n",
       "</style>\n",
       "<table border=\"1\" class=\"dataframe\">\n",
       "  <thead>\n",
       "    <tr style=\"text-align: right;\">\n",
       "      <th></th>\n",
       "      <th>name</th>\n",
       "      <th>genre</th>\n",
       "      <th>paintings</th>\n",
       "      <th>% of paintings</th>\n",
       "    </tr>\n",
       "  </thead>\n",
       "  <tbody>\n",
       "    <tr>\n",
       "      <th>0</th>\n",
       "      <td>Amedeo_Modigliani</td>\n",
       "      <td>Expressionism</td>\n",
       "      <td>193</td>\n",
       "      <td>2.29</td>\n",
       "    </tr>\n",
       "    <tr>\n",
       "      <th>1</th>\n",
       "      <td>Vasiliy_Kandinskiy</td>\n",
       "      <td>Expressionism,Abstractionism</td>\n",
       "      <td>88</td>\n",
       "      <td>1.04</td>\n",
       "    </tr>\n",
       "    <tr>\n",
       "      <th>2</th>\n",
       "      <td>Diego_Rivera</td>\n",
       "      <td>Social Realism,Muralism</td>\n",
       "      <td>70</td>\n",
       "      <td>0.83</td>\n",
       "    </tr>\n",
       "    <tr>\n",
       "      <th>3</th>\n",
       "      <td>Claude_Monet</td>\n",
       "      <td>Impressionism</td>\n",
       "      <td>73</td>\n",
       "      <td>0.86</td>\n",
       "    </tr>\n",
       "    <tr>\n",
       "      <th>4</th>\n",
       "      <td>Rene_Magritte</td>\n",
       "      <td>Surrealism,Impressionism</td>\n",
       "      <td>194</td>\n",
       "      <td>2.30</td>\n",
       "    </tr>\n",
       "  </tbody>\n",
       "</table>\n",
       "</div>"
      ],
      "text/plain": [
       "                 name                         genre  paintings  % of paintings\n",
       "0   Amedeo_Modigliani                 Expressionism        193            2.29\n",
       "1  Vasiliy_Kandinskiy  Expressionism,Abstractionism         88            1.04\n",
       "2        Diego_Rivera       Social Realism,Muralism         70            0.83\n",
       "3        Claude_Monet                 Impressionism         73            0.86\n",
       "4       Rene_Magritte      Surrealism,Impressionism        194            2.30"
      ]
     },
     "execution_count": 9,
     "metadata": {},
     "output_type": "execute_result"
    }
   ],
   "source": [
    "#drop id, years, nationality, bio, wikipedia\n",
    "artists.drop(labels=['id','years','nationality','bio', 'wikipedia'], axis=1, inplace = True)\n",
    "#rename 'Albrecht Dürer' to 'Albrecht Durer'\n",
    "artists['name'] = artists['name'].replace(to_replace='Albrecht D.rer', value = 'Albrecht Durer', regex = True)\n",
    "artists['name'] = artists['name'].str.replace(' ', '_')\n",
    "#calculate percentage of paintings against total\n",
    "artists['% of paintings'] = round(artists.paintings/artists.paintings.sum()*100, 2)\n",
    "artists.head()"
   ]
  },
  {
   "cell_type": "code",
   "execution_count": 10,
   "metadata": {
    "scrolled": true
   },
   "outputs": [
    {
     "data": {
      "text/html": [
       "<div>\n",
       "<style scoped>\n",
       "    .dataframe tbody tr th:only-of-type {\n",
       "        vertical-align: middle;\n",
       "    }\n",
       "\n",
       "    .dataframe tbody tr th {\n",
       "        vertical-align: top;\n",
       "    }\n",
       "\n",
       "    .dataframe thead th {\n",
       "        text-align: right;\n",
       "    }\n",
       "</style>\n",
       "<table border=\"1\" class=\"dataframe\">\n",
       "  <thead>\n",
       "    <tr style=\"text-align: right;\">\n",
       "      <th></th>\n",
       "      <th>name</th>\n",
       "      <th>filename</th>\n",
       "      <th>filepath</th>\n",
       "    </tr>\n",
       "  </thead>\n",
       "  <tbody>\n",
       "    <tr>\n",
       "      <th>0</th>\n",
       "      <td>Albrecht_Durer</td>\n",
       "      <td>Albrecht_Durer_(1).jpg</td>\n",
       "      <td>..\\raw_images\\Albrecht_Durer\\Albrecht_Durer_(1...</td>\n",
       "    </tr>\n",
       "    <tr>\n",
       "      <th>1</th>\n",
       "      <td>Albrecht_Durer</td>\n",
       "      <td>Albrecht_Durer_(10).jpg</td>\n",
       "      <td>..\\raw_images\\Albrecht_Durer\\Albrecht_Durer_(1...</td>\n",
       "    </tr>\n",
       "    <tr>\n",
       "      <th>2</th>\n",
       "      <td>Albrecht_Durer</td>\n",
       "      <td>Albrecht_Durer_(100).jpg</td>\n",
       "      <td>..\\raw_images\\Albrecht_Durer\\Albrecht_Durer_(1...</td>\n",
       "    </tr>\n",
       "    <tr>\n",
       "      <th>3</th>\n",
       "      <td>Albrecht_Durer</td>\n",
       "      <td>Albrecht_Durer_(101).jpg</td>\n",
       "      <td>..\\raw_images\\Albrecht_Durer\\Albrecht_Durer_(1...</td>\n",
       "    </tr>\n",
       "    <tr>\n",
       "      <th>4</th>\n",
       "      <td>Albrecht_Durer</td>\n",
       "      <td>Albrecht_Durer_(102).jpg</td>\n",
       "      <td>..\\raw_images\\Albrecht_Durer\\Albrecht_Durer_(1...</td>\n",
       "    </tr>\n",
       "  </tbody>\n",
       "</table>\n",
       "</div>"
      ],
      "text/plain": [
       "             name                  filename  \\\n",
       "0  Albrecht_Durer    Albrecht_Durer_(1).jpg   \n",
       "1  Albrecht_Durer   Albrecht_Durer_(10).jpg   \n",
       "2  Albrecht_Durer  Albrecht_Durer_(100).jpg   \n",
       "3  Albrecht_Durer  Albrecht_Durer_(101).jpg   \n",
       "4  Albrecht_Durer  Albrecht_Durer_(102).jpg   \n",
       "\n",
       "                                            filepath  \n",
       "0  ..\\raw_images\\Albrecht_Durer\\Albrecht_Durer_(1...  \n",
       "1  ..\\raw_images\\Albrecht_Durer\\Albrecht_Durer_(1...  \n",
       "2  ..\\raw_images\\Albrecht_Durer\\Albrecht_Durer_(1...  \n",
       "3  ..\\raw_images\\Albrecht_Durer\\Albrecht_Durer_(1...  \n",
       "4  ..\\raw_images\\Albrecht_Durer\\Albrecht_Durer_(1...  "
      ]
     },
     "execution_count": 10,
     "metadata": {},
     "output_type": "execute_result"
    }
   ],
   "source": [
    "#create data frame with artist name, genre, filename, filepath\n",
    "path = r'..\\raw_images'\n",
    "\n",
    "#get image information\n",
    "img_info = get_image_info(path)\n",
    "\n",
    "#convert lists to dataframe\n",
    "zipped = zip(['name', 'filename', 'filepath'], img_info)\n",
    "artlabels = pd.DataFrame(dict(list(zipped)))\n",
    "artlabels.head()"
   ]
  },
  {
   "cell_type": "code",
   "execution_count": 11,
   "metadata": {
    "scrolled": true
   },
   "outputs": [
    {
     "data": {
      "text/html": [
       "<div>\n",
       "<style scoped>\n",
       "    .dataframe tbody tr th:only-of-type {\n",
       "        vertical-align: middle;\n",
       "    }\n",
       "\n",
       "    .dataframe tbody tr th {\n",
       "        vertical-align: top;\n",
       "    }\n",
       "\n",
       "    .dataframe thead th {\n",
       "        text-align: right;\n",
       "    }\n",
       "</style>\n",
       "<table border=\"1\" class=\"dataframe\">\n",
       "  <thead>\n",
       "    <tr style=\"text-align: right;\">\n",
       "      <th></th>\n",
       "      <th>name</th>\n",
       "      <th>filename</th>\n",
       "      <th>filepath</th>\n",
       "      <th>genre</th>\n",
       "    </tr>\n",
       "  </thead>\n",
       "  <tbody>\n",
       "    <tr>\n",
       "      <th>0</th>\n",
       "      <td>Albrecht_Durer</td>\n",
       "      <td>Albrecht_Durer_(1).jpg</td>\n",
       "      <td>..\\raw_images\\Albrecht_Durer\\Albrecht_Durer_(1...</td>\n",
       "      <td>Northern Renaissance</td>\n",
       "    </tr>\n",
       "    <tr>\n",
       "      <th>1</th>\n",
       "      <td>Albrecht_Durer</td>\n",
       "      <td>Albrecht_Durer_(10).jpg</td>\n",
       "      <td>..\\raw_images\\Albrecht_Durer\\Albrecht_Durer_(1...</td>\n",
       "      <td>Northern Renaissance</td>\n",
       "    </tr>\n",
       "    <tr>\n",
       "      <th>2</th>\n",
       "      <td>Albrecht_Durer</td>\n",
       "      <td>Albrecht_Durer_(100).jpg</td>\n",
       "      <td>..\\raw_images\\Albrecht_Durer\\Albrecht_Durer_(1...</td>\n",
       "      <td>Northern Renaissance</td>\n",
       "    </tr>\n",
       "    <tr>\n",
       "      <th>3</th>\n",
       "      <td>Albrecht_Durer</td>\n",
       "      <td>Albrecht_Durer_(101).jpg</td>\n",
       "      <td>..\\raw_images\\Albrecht_Durer\\Albrecht_Durer_(1...</td>\n",
       "      <td>Northern Renaissance</td>\n",
       "    </tr>\n",
       "    <tr>\n",
       "      <th>4</th>\n",
       "      <td>Albrecht_Durer</td>\n",
       "      <td>Albrecht_Durer_(102).jpg</td>\n",
       "      <td>..\\raw_images\\Albrecht_Durer\\Albrecht_Durer_(1...</td>\n",
       "      <td>Northern Renaissance</td>\n",
       "    </tr>\n",
       "  </tbody>\n",
       "</table>\n",
       "</div>"
      ],
      "text/plain": [
       "             name                  filename  \\\n",
       "0  Albrecht_Durer    Albrecht_Durer_(1).jpg   \n",
       "1  Albrecht_Durer   Albrecht_Durer_(10).jpg   \n",
       "2  Albrecht_Durer  Albrecht_Durer_(100).jpg   \n",
       "3  Albrecht_Durer  Albrecht_Durer_(101).jpg   \n",
       "4  Albrecht_Durer  Albrecht_Durer_(102).jpg   \n",
       "\n",
       "                                            filepath                 genre  \n",
       "0  ..\\raw_images\\Albrecht_Durer\\Albrecht_Durer_(1...  Northern Renaissance  \n",
       "1  ..\\raw_images\\Albrecht_Durer\\Albrecht_Durer_(1...  Northern Renaissance  \n",
       "2  ..\\raw_images\\Albrecht_Durer\\Albrecht_Durer_(1...  Northern Renaissance  \n",
       "3  ..\\raw_images\\Albrecht_Durer\\Albrecht_Durer_(1...  Northern Renaissance  \n",
       "4  ..\\raw_images\\Albrecht_Durer\\Albrecht_Durer_(1...  Northern Renaissance  "
      ]
     },
     "execution_count": 11,
     "metadata": {},
     "output_type": "execute_result"
    }
   ],
   "source": [
    "#extract the artist name and genre\n",
    "genre = artists.loc[:,['name', 'genre']]\n",
    "\n",
    "#label each file with their respective genres\n",
    "artlabels = artlabels.merge(genre, how='left', on='name')\n",
    "artlabels.head()"
   ]
  },
  {
   "cell_type": "code",
   "execution_count": 8,
   "metadata": {
    "scrolled": true
   },
   "outputs": [
    {
     "name": "stdout",
     "output_type": "stream",
     "text": [
      "..\\data path already exists\n"
     ]
    }
   ],
   "source": [
    "#create a new folder for the csv files\n",
    "datapath = '..\\data'\n",
    "create_new_folder(datapath)"
   ]
  },
  {
   "cell_type": "code",
   "execution_count": 9,
   "metadata": {
    "scrolled": false
   },
   "outputs": [],
   "source": [
    "#create a new csv file with at most one genre for an artist\n",
    "#uniqueartlabels = artlabels[~artlabels.genre.str.contains(',')]\n",
    "#uniqueartlabels.reset_index(drop=True, inplace=True)\n",
    "\n",
    "newfile = 'artists_clean.csv'\n",
    "fullpath = os.path.join(datapath, newfile)\n",
    "artists.to_csv(fullpath)"
   ]
  },
  {
   "cell_type": "code",
   "execution_count": 10,
   "metadata": {
    "scrolled": true
   },
   "outputs": [],
   "source": [
    "#create a csv file from the new dataframe\n",
    "newfile = 'artlabels.csv'\n",
    "fullpath = os.path.join(datapath, newfile)\n",
    "artlabels.to_csv(fullpath)"
   ]
  },
  {
   "cell_type": "code",
   "execution_count": 60,
   "metadata": {
    "scrolled": false
   },
   "outputs": [
    {
     "name": "stdout",
     "output_type": "stream",
     "text": [
      "Deleted 8446 images\n"
     ]
    }
   ],
   "source": [
    "#clear old images to procure a new sample\n",
    "rawpath = r'..\\raw_images'\n",
    "imagepath = r'..\\images'\n",
    "if os.path.exists(imagepath):\n",
    "    num_skipped = clear_old_images(imagepath, artists)"
   ]
  },
  {
   "cell_type": "code",
   "execution_count": 61,
   "metadata": {},
   "outputs": [
    {
     "name": "stdout",
     "output_type": "stream",
     "text": [
      "Generated 2002 new images\n"
     ]
    }
   ],
   "source": [
    "sample_list = get_random_imgs(rawpath, imagepath, artists, 20)"
   ]
  },
  {
   "cell_type": "code",
   "execution_count": 62,
   "metadata": {
    "scrolled": true
   },
   "outputs": [],
   "source": [
    "df_sample = pd.DataFrame(columns=['label', 'filename'])\n",
    "for i in range(len(sample_list)):\n",
    "    df_sample.loc[i] = sample_list[i]  "
   ]
  },
  {
   "cell_type": "code",
   "execution_count": 63,
   "metadata": {},
   "outputs": [
    {
     "data": {
      "text/plain": [
       "(2002, 2)"
      ]
     },
     "execution_count": 63,
     "metadata": {},
     "output_type": "execute_result"
    }
   ],
   "source": [
    "df_sample.shape"
   ]
  },
  {
   "cell_type": "code",
   "execution_count": 64,
   "metadata": {},
   "outputs": [
    {
     "data": {
      "text/html": [
       "<div>\n",
       "<style scoped>\n",
       "    .dataframe tbody tr th:only-of-type {\n",
       "        vertical-align: middle;\n",
       "    }\n",
       "\n",
       "    .dataframe tbody tr th {\n",
       "        vertical-align: top;\n",
       "    }\n",
       "\n",
       "    .dataframe thead th {\n",
       "        text-align: right;\n",
       "    }\n",
       "</style>\n",
       "<table border=\"1\" class=\"dataframe\">\n",
       "  <thead>\n",
       "    <tr style=\"text-align: right;\">\n",
       "      <th></th>\n",
       "      <th>label</th>\n",
       "      <th>filename</th>\n",
       "    </tr>\n",
       "  </thead>\n",
       "  <tbody>\n",
       "    <tr>\n",
       "      <th>0</th>\n",
       "      <td>Expressionism</td>\n",
       "      <td>Amedeo_Modigliani_133.jpg</td>\n",
       "    </tr>\n",
       "    <tr>\n",
       "      <th>1</th>\n",
       "      <td>Expressionism</td>\n",
       "      <td>Amedeo_Modigliani_88.jpg</td>\n",
       "    </tr>\n",
       "    <tr>\n",
       "      <th>2</th>\n",
       "      <td>Expressionism</td>\n",
       "      <td>Amedeo_Modigliani_189.jpg</td>\n",
       "    </tr>\n",
       "    <tr>\n",
       "      <th>3</th>\n",
       "      <td>Expressionism</td>\n",
       "      <td>Amedeo_Modigliani_83.jpg</td>\n",
       "    </tr>\n",
       "    <tr>\n",
       "      <th>4</th>\n",
       "      <td>Expressionism</td>\n",
       "      <td>Amedeo_Modigliani_28.jpg</td>\n",
       "    </tr>\n",
       "  </tbody>\n",
       "</table>\n",
       "</div>"
      ],
      "text/plain": [
       "           label                   filename\n",
       "0  Expressionism  Amedeo_Modigliani_133.jpg\n",
       "1  Expressionism   Amedeo_Modigliani_88.jpg\n",
       "2  Expressionism  Amedeo_Modigliani_189.jpg\n",
       "3  Expressionism   Amedeo_Modigliani_83.jpg\n",
       "4  Expressionism   Amedeo_Modigliani_28.jpg"
      ]
     },
     "execution_count": 64,
     "metadata": {},
     "output_type": "execute_result"
    }
   ],
   "source": [
    "df_sample.head()"
   ]
  },
  {
   "cell_type": "code",
   "execution_count": 65,
   "metadata": {},
   "outputs": [],
   "source": [
    "df_sample.to_csv(r'..\\data\\sample.csv')"
   ]
  }
 ],
 "metadata": {
  "kernelspec": {
   "display_name": "deep learning",
   "language": "python",
   "name": "deep_learning"
  },
  "language_info": {
   "codemirror_mode": {
    "name": "ipython",
    "version": 3
   },
   "file_extension": ".py",
   "mimetype": "text/x-python",
   "name": "python",
   "nbconvert_exporter": "python",
   "pygments_lexer": "ipython3",
   "version": "3.8.5"
  }
 },
 "nbformat": 4,
 "nbformat_minor": 4
}
