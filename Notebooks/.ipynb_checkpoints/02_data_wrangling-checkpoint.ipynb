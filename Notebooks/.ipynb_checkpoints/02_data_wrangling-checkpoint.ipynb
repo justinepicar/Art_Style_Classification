{
 "cells": [
  {
   "cell_type": "code",
   "execution_count": 1,
   "metadata": {},
   "outputs": [],
   "source": [
    "%load_ext autoreload\n",
    "%autoreload 2"
   ]
  },
  {
   "cell_type": "code",
   "execution_count": 1,
   "metadata": {},
   "outputs": [],
   "source": [
    "import os\n",
    "import sys\n",
    "import pandas as pd\n",
    "import numpy as np"
   ]
  },
  {
   "cell_type": "code",
   "execution_count": 3,
   "metadata": {},
   "outputs": [],
   "source": [
    "sys.path.insert(0, '..')\n",
    "from data_wrangling import create_new_folder, clear_old_images, get_sample, get_image_info"
   ]
  },
  {
   "cell_type": "markdown",
   "metadata": {},
   "source": [
    "## CLEAN RAW DATA FILE"
   ]
  },
  {
   "cell_type": "code",
   "execution_count": 4,
   "metadata": {
    "scrolled": false
   },
   "outputs": [],
   "source": [
    "art_data = pd.read_csv('../raw_data/artists.csv')"
   ]
  },
  {
   "cell_type": "code",
   "execution_count": 5,
   "metadata": {},
   "outputs": [],
   "source": [
    "#drop id, years, nationality, bio, wikipedia\n",
    "art_data.drop(labels='id', axis=1, inplace = True)\n",
    "\n",
    "#rename 'Albrecht Dürer' to 'Albrecht Durer'\n",
    "art_data['name'] = art_data['name'].replace(to_replace='Albrecht D.rer', value = 'Albrecht Durer', regex = True)\n",
    "art_data['name'] = art_data['name'].str.replace(' ', '_')"
   ]
  },
  {
   "cell_type": "code",
   "execution_count": 6,
   "metadata": {
    "scrolled": true
   },
   "outputs": [
    {
     "name": "stdout",
     "output_type": "stream",
     "text": [
      "..\\data path already exists\n"
     ]
    }
   ],
   "source": [
    "#create a new folder for the csv files\n",
    "datapath = '..\\data'\n",
    "create_new_folder(datapath)"
   ]
  },
  {
   "cell_type": "code",
   "execution_count": 7,
   "metadata": {
    "scrolled": false
   },
   "outputs": [],
   "source": [
    "#create a new csv file with at most one genre for an artist\n",
    "newfile = 'artists_clean.csv'\n",
    "fullpath = os.path.join(datapath, newfile)\n",
    "art_data.to_csv(fullpath)"
   ]
  },
  {
   "cell_type": "code",
   "execution_count": 8,
   "metadata": {
    "scrolled": true
   },
   "outputs": [],
   "source": [
    "#create data frame with artist name, genre, filename, filepath\n",
    "path = r'..\\raw_images'\n",
    "#get image information\n",
    "art_file = get_image_info(path)"
   ]
  },
  {
   "cell_type": "code",
   "execution_count": 9,
   "metadata": {},
   "outputs": [],
   "source": [
    "#extract the artist name and genre\n",
    "labels = art_data.loc[:,['name', 'genre']]\n",
    "labels['label'] = labels['name']\n",
    "labels.drop(labels='name', axis=1, inplace=True)"
   ]
  },
  {
   "cell_type": "code",
   "execution_count": 10,
   "metadata": {
    "scrolled": false
   },
   "outputs": [
    {
     "data": {
      "text/html": [
       "<div>\n",
       "<style scoped>\n",
       "    .dataframe tbody tr th:only-of-type {\n",
       "        vertical-align: middle;\n",
       "    }\n",
       "\n",
       "    .dataframe tbody tr th {\n",
       "        vertical-align: top;\n",
       "    }\n",
       "\n",
       "    .dataframe thead th {\n",
       "        text-align: right;\n",
       "    }\n",
       "</style>\n",
       "<table border=\"1\" class=\"dataframe\">\n",
       "  <thead>\n",
       "    <tr style=\"text-align: right;\">\n",
       "      <th></th>\n",
       "      <th>label</th>\n",
       "      <th>filename</th>\n",
       "      <th>filepath</th>\n",
       "      <th>genre</th>\n",
       "    </tr>\n",
       "  </thead>\n",
       "  <tbody>\n",
       "    <tr>\n",
       "      <th>0</th>\n",
       "      <td>Albrecht_Durer</td>\n",
       "      <td>Albrecht_Durer_(1).jpg</td>\n",
       "      <td>..\\raw_images\\Albrecht_Durer\\Albrecht_Durer_(1...</td>\n",
       "      <td>Northern Renaissance</td>\n",
       "    </tr>\n",
       "    <tr>\n",
       "      <th>1</th>\n",
       "      <td>Albrecht_Durer</td>\n",
       "      <td>Albrecht_Durer_(10).jpg</td>\n",
       "      <td>..\\raw_images\\Albrecht_Durer\\Albrecht_Durer_(1...</td>\n",
       "      <td>Northern Renaissance</td>\n",
       "    </tr>\n",
       "    <tr>\n",
       "      <th>2</th>\n",
       "      <td>Albrecht_Durer</td>\n",
       "      <td>Albrecht_Durer_(100).jpg</td>\n",
       "      <td>..\\raw_images\\Albrecht_Durer\\Albrecht_Durer_(1...</td>\n",
       "      <td>Northern Renaissance</td>\n",
       "    </tr>\n",
       "    <tr>\n",
       "      <th>3</th>\n",
       "      <td>Albrecht_Durer</td>\n",
       "      <td>Albrecht_Durer_(101).jpg</td>\n",
       "      <td>..\\raw_images\\Albrecht_Durer\\Albrecht_Durer_(1...</td>\n",
       "      <td>Northern Renaissance</td>\n",
       "    </tr>\n",
       "    <tr>\n",
       "      <th>4</th>\n",
       "      <td>Albrecht_Durer</td>\n",
       "      <td>Albrecht_Durer_(102).jpg</td>\n",
       "      <td>..\\raw_images\\Albrecht_Durer\\Albrecht_Durer_(1...</td>\n",
       "      <td>Northern Renaissance</td>\n",
       "    </tr>\n",
       "  </tbody>\n",
       "</table>\n",
       "</div>"
      ],
      "text/plain": [
       "            label                  filename  \\\n",
       "0  Albrecht_Durer    Albrecht_Durer_(1).jpg   \n",
       "1  Albrecht_Durer   Albrecht_Durer_(10).jpg   \n",
       "2  Albrecht_Durer  Albrecht_Durer_(100).jpg   \n",
       "3  Albrecht_Durer  Albrecht_Durer_(101).jpg   \n",
       "4  Albrecht_Durer  Albrecht_Durer_(102).jpg   \n",
       "\n",
       "                                            filepath                 genre  \n",
       "0  ..\\raw_images\\Albrecht_Durer\\Albrecht_Durer_(1...  Northern Renaissance  \n",
       "1  ..\\raw_images\\Albrecht_Durer\\Albrecht_Durer_(1...  Northern Renaissance  \n",
       "2  ..\\raw_images\\Albrecht_Durer\\Albrecht_Durer_(1...  Northern Renaissance  \n",
       "3  ..\\raw_images\\Albrecht_Durer\\Albrecht_Durer_(1...  Northern Renaissance  \n",
       "4  ..\\raw_images\\Albrecht_Durer\\Albrecht_Durer_(1...  Northern Renaissance  "
      ]
     },
     "execution_count": 10,
     "metadata": {},
     "output_type": "execute_result"
    }
   ],
   "source": [
    "#label each file with their respective genres\n",
    "art_file = art_file.merge(labels, how='left', on='label')\n",
    "art_file.head()"
   ]
  },
  {
   "cell_type": "code",
   "execution_count": 11,
   "metadata": {},
   "outputs": [
    {
     "data": {
      "text/plain": [
       "(6669, 4)"
      ]
     },
     "execution_count": 11,
     "metadata": {},
     "output_type": "execute_result"
    }
   ],
   "source": [
    "#drop artworks with multiple styles\n",
    "art_file = art_file.loc[~art_file.genre.str.contains(',')]\n",
    "art_file.reset_index(inplace=True, drop=True)\n",
    "art_file.shape"
   ]
  },
  {
   "cell_type": "markdown",
   "metadata": {},
   "source": [
    "### SAVE CSV FILEPATHS"
   ]
  },
  {
   "cell_type": "code",
   "execution_count": 12,
   "metadata": {
    "scrolled": true
   },
   "outputs": [],
   "source": [
    "#create a csv file from the new dataframe\n",
    "newfile = 'art_labels.csv'\n",
    "fullpath = os.path.join(datapath, newfile)\n",
    "art_file.to_csv(fullpath)"
   ]
  },
  {
   "cell_type": "markdown",
   "metadata": {},
   "source": [
    "## SPLIT DATA INTO TRAIN, VALIDATION, AND TEST SETS"
   ]
  },
  {
   "cell_type": "code",
   "execution_count": 13,
   "metadata": {},
   "outputs": [],
   "source": [
    "#create a folder to get a sample of training and validation images\n",
    "images = r'../images' #sample images to upload to github; NOTE: this never changes or is used for training and validation\n",
    "train = r'../train_images'\n",
    "val = r'../val_images'\n",
    "test = r'../test_images'"
   ]
  },
  {
   "cell_type": "code",
   "execution_count": 14,
   "metadata": {},
   "outputs": [],
   "source": [
    "images = get_image_info(images)"
   ]
  },
  {
   "cell_type": "code",
   "execution_count": 15,
   "metadata": {},
   "outputs": [],
   "source": [
    "genre_sample = ['Impressionism', 'Cubism', 'Expressionism', 'Pop Art', 'Byzantine Art', 'Abstract Expressionism']"
   ]
  },
  {
   "cell_type": "code",
   "execution_count": 16,
   "metadata": {},
   "outputs": [],
   "source": [
    "test_file = art_file[art_file.filename.isin(list(images.filename))]"
   ]
  },
  {
   "cell_type": "markdown",
   "metadata": {},
   "source": [
    "### GET RANDOM SAMPLE OF IMAGES"
   ]
  },
  {
   "cell_type": "code",
   "execution_count": 17,
   "metadata": {
    "scrolled": false
   },
   "outputs": [
    {
     "name": "stdout",
     "output_type": "stream",
     "text": [
      "Checking if ../test_images exists...\n",
      "Clearing any previous samples...\n",
      "Empty directory. Delete ../test_images\\Abstract Expressionism\n",
      "Empty directory. Delete ../test_images\\Byzantine Art\n",
      "Empty directory. Delete ../test_images\\Cubism\n",
      "Empty directory. Delete ../test_images\\Expressionism\n",
      "Empty directory. Delete ../test_images\\Impressionism\n",
      "Empty directory. Delete ../test_images\\Pop Art\n",
      "Deleted 230 images\n",
      "../test_images\\Impressionism created\n",
      "../test_images\\Cubism created\n",
      "../test_images\\Expressionism created\n",
      "../test_images\\Pop Art created\n",
      "../test_images\\Byzantine Art created\n",
      "../test_images\\Abstract Expressionism created\n",
      "Generated 230 new images\n"
     ]
    }
   ],
   "source": [
    "#get specific genres from ../images to test\n",
    "get_sample(test, test_file, genre_sample, 1) #get all images\n",
    "test_df = get_image_info(test)"
   ]
  },
  {
   "cell_type": "code",
   "execution_count": 18,
   "metadata": {},
   "outputs": [
    {
     "data": {
      "text/plain": [
       "(6439, 4)"
      ]
     },
     "execution_count": 18,
     "metadata": {},
     "output_type": "execute_result"
    }
   ],
   "source": [
    "train_file = art_file[~art_file.filename.isin(list(test_df.filename))]\n",
    "train_file.shape"
   ]
  },
  {
   "cell_type": "code",
   "execution_count": 19,
   "metadata": {
    "scrolled": true
   },
   "outputs": [
    {
     "name": "stdout",
     "output_type": "stream",
     "text": [
      "Checking if ../train_images exists...\n",
      "Clearing any previous samples...\n",
      "Empty directory. Delete ../train_images\\Abstract Expressionism\n",
      "Empty directory. Delete ../train_images\\Byzantine Art\n",
      "Empty directory. Delete ../train_images\\Cubism\n",
      "Empty directory. Delete ../train_images\\Expressionism\n",
      "Empty directory. Delete ../train_images\\Impressionism\n",
      "Empty directory. Delete ../train_images\\Pop Art\n",
      "Deleted 1458 images\n",
      "../train_images\\Impressionism created\n",
      "../train_images\\Cubism created\n",
      "../train_images\\Expressionism created\n",
      "../train_images\\Pop Art created\n",
      "../train_images\\Byzantine Art created\n",
      "../train_images\\Abstract Expressionism created\n",
      "Generated 1038 new images\n"
     ]
    }
   ],
   "source": [
    "#get a sample of new images\n",
    "get_sample(train, train_file, genre_sample, .5)\n",
    "train_df = get_image_info(train)\n",
    "train_df.to_csv(r'..\\data\\train.csv')"
   ]
  },
  {
   "cell_type": "code",
   "execution_count": 20,
   "metadata": {},
   "outputs": [
    {
     "data": {
      "text/plain": [
       "(5401, 4)"
      ]
     },
     "execution_count": 20,
     "metadata": {},
     "output_type": "execute_result"
    }
   ],
   "source": [
    "val_file = train_file[~train_file.filename.isin(list(train_df.filename))]\n",
    "val_file.shape"
   ]
  },
  {
   "cell_type": "code",
   "execution_count": 21,
   "metadata": {
    "scrolled": true
   },
   "outputs": [
    {
     "name": "stdout",
     "output_type": "stream",
     "text": [
      "Checking if ../val_images exists...\n",
      "Clearing any previous samples...\n",
      "Empty directory. Delete ../val_images\\Abstract Expressionism\n",
      "Empty directory. Delete ../val_images\\Byzantine Art\n",
      "Empty directory. Delete ../val_images\\Cubism\n",
      "Empty directory. Delete ../val_images\\Expressionism\n",
      "Empty directory. Delete ../val_images\\Impressionism\n",
      "Empty directory. Delete ../val_images\\Pop Art\n",
      "Deleted 206 images\n",
      "../val_images\\Impressionism created\n",
      "../val_images\\Cubism created\n",
      "../val_images\\Expressionism created\n",
      "../val_images\\Pop Art created\n",
      "../val_images\\Byzantine Art created\n",
      "../val_images\\Abstract Expressionism created\n",
      "Generated 206 new images\n"
     ]
    }
   ],
   "source": [
    "get_sample(val, val_file, genre_sample, .2)\n",
    "val_df = get_image_info(val)"
   ]
  }
 ],
 "metadata": {
  "kernelspec": {
   "display_name": "deep learning",
   "language": "python",
   "name": "deep_learning"
  },
  "language_info": {
   "codemirror_mode": {
    "name": "ipython",
    "version": 3
   },
   "file_extension": ".py",
   "mimetype": "text/x-python",
   "name": "python",
   "nbconvert_exporter": "python",
   "pygments_lexer": "ipython3",
   "version": "3.8.5"
  }
 },
 "nbformat": 4,
 "nbformat_minor": 4
}
