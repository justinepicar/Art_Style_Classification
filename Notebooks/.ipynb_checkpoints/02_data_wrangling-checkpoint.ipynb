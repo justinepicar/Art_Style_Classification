{
 "cells": [
  {
   "cell_type": "code",
   "execution_count": 39,
   "metadata": {},
   "outputs": [],
   "source": [
    "%load_ext autoreload\n",
    "%autoreload 2"
   ]
  },
  {
   "cell_type": "code",
   "execution_count": 2,
   "metadata": {},
   "outputs": [],
   "source": [
    "import os\n",
    "import sys\n",
    "import pandas as pd\n",
    "import shutil\n",
    "import random\n",
    "import numpy as np"
   ]
  },
  {
   "cell_type": "code",
   "execution_count": 3,
   "metadata": {},
   "outputs": [],
   "source": [
    "sys.path.insert(0, '..')\n",
    "from function import *\n",
    "from createimages import *"
   ]
  },
  {
   "cell_type": "code",
   "execution_count": 4,
   "metadata": {
    "scrolled": false
   },
   "outputs": [],
   "source": [
    "artists = pd.read_csv('../raw_data/artists.csv')"
   ]
  },
  {
   "cell_type": "code",
   "execution_count": 5,
   "metadata": {},
   "outputs": [
    {
     "data": {
      "text/html": [
       "<div>\n",
       "<style scoped>\n",
       "    .dataframe tbody tr th:only-of-type {\n",
       "        vertical-align: middle;\n",
       "    }\n",
       "\n",
       "    .dataframe tbody tr th {\n",
       "        vertical-align: top;\n",
       "    }\n",
       "\n",
       "    .dataframe thead th {\n",
       "        text-align: right;\n",
       "    }\n",
       "</style>\n",
       "<table border=\"1\" class=\"dataframe\">\n",
       "  <thead>\n",
       "    <tr style=\"text-align: right;\">\n",
       "      <th></th>\n",
       "      <th>name</th>\n",
       "      <th>genre</th>\n",
       "      <th>paintings</th>\n",
       "    </tr>\n",
       "  </thead>\n",
       "  <tbody>\n",
       "    <tr>\n",
       "      <th>0</th>\n",
       "      <td>Amedeo_Modigliani</td>\n",
       "      <td>Expressionism</td>\n",
       "      <td>193</td>\n",
       "    </tr>\n",
       "    <tr>\n",
       "      <th>1</th>\n",
       "      <td>Vasiliy_Kandinskiy</td>\n",
       "      <td>Expressionism,Abstractionism</td>\n",
       "      <td>88</td>\n",
       "    </tr>\n",
       "    <tr>\n",
       "      <th>2</th>\n",
       "      <td>Diego_Rivera</td>\n",
       "      <td>Social Realism,Muralism</td>\n",
       "      <td>70</td>\n",
       "    </tr>\n",
       "    <tr>\n",
       "      <th>3</th>\n",
       "      <td>Claude_Monet</td>\n",
       "      <td>Impressionism</td>\n",
       "      <td>73</td>\n",
       "    </tr>\n",
       "    <tr>\n",
       "      <th>4</th>\n",
       "      <td>Rene_Magritte</td>\n",
       "      <td>Surrealism,Impressionism</td>\n",
       "      <td>194</td>\n",
       "    </tr>\n",
       "  </tbody>\n",
       "</table>\n",
       "</div>"
      ],
      "text/plain": [
       "                 name                         genre  paintings\n",
       "0   Amedeo_Modigliani                 Expressionism        193\n",
       "1  Vasiliy_Kandinskiy  Expressionism,Abstractionism         88\n",
       "2        Diego_Rivera       Social Realism,Muralism         70\n",
       "3        Claude_Monet                 Impressionism         73\n",
       "4       Rene_Magritte      Surrealism,Impressionism        194"
      ]
     },
     "execution_count": 5,
     "metadata": {},
     "output_type": "execute_result"
    }
   ],
   "source": [
    "#drop id, years, nationality, bio, wikipedia\n",
    "artists.drop(labels=['id','years','nationality','bio', 'wikipedia'], axis=1, inplace = True)\n",
    "#rename 'Albrecht Dürer' to 'Albrecht Durer'\n",
    "artists['name'] = artists['name'].replace(to_replace='Albrecht D.rer', value = 'Albrecht Durer', regex = True)\n",
    "artists['name'] = artists['name'].str.replace(' ', '_')\n",
    "artists.head()"
   ]
  },
  {
   "cell_type": "code",
   "execution_count": 6,
   "metadata": {
    "scrolled": true
   },
   "outputs": [],
   "source": [
    "#create data frame with artist name, genre, filename, filepath\n",
    "path = r'..\\raw_images'\n",
    "#get image information\n",
    "img_info = get_image_info(path)\n",
    "#convert lists to dataframe\n",
    "zipped = zip(['name', 'filename', 'filepath'], img_info)\n",
    "artlabels = pd.DataFrame(dict(list(zipped)))"
   ]
  },
  {
   "cell_type": "code",
   "execution_count": 7,
   "metadata": {
    "scrolled": true
   },
   "outputs": [
    {
     "data": {
      "text/html": [
       "<div>\n",
       "<style scoped>\n",
       "    .dataframe tbody tr th:only-of-type {\n",
       "        vertical-align: middle;\n",
       "    }\n",
       "\n",
       "    .dataframe tbody tr th {\n",
       "        vertical-align: top;\n",
       "    }\n",
       "\n",
       "    .dataframe thead th {\n",
       "        text-align: right;\n",
       "    }\n",
       "</style>\n",
       "<table border=\"1\" class=\"dataframe\">\n",
       "  <thead>\n",
       "    <tr style=\"text-align: right;\">\n",
       "      <th></th>\n",
       "      <th>name</th>\n",
       "      <th>filename</th>\n",
       "      <th>filepath</th>\n",
       "      <th>genre</th>\n",
       "    </tr>\n",
       "  </thead>\n",
       "  <tbody>\n",
       "    <tr>\n",
       "      <th>0</th>\n",
       "      <td>Albrecht_Durer</td>\n",
       "      <td>Albrecht_Durer_(1).jpg</td>\n",
       "      <td>..\\raw_images\\Albrecht_Durer\\Albrecht_Durer_(1...</td>\n",
       "      <td>Northern Renaissance</td>\n",
       "    </tr>\n",
       "    <tr>\n",
       "      <th>1</th>\n",
       "      <td>Albrecht_Durer</td>\n",
       "      <td>Albrecht_Durer_(10).jpg</td>\n",
       "      <td>..\\raw_images\\Albrecht_Durer\\Albrecht_Durer_(1...</td>\n",
       "      <td>Northern Renaissance</td>\n",
       "    </tr>\n",
       "    <tr>\n",
       "      <th>2</th>\n",
       "      <td>Albrecht_Durer</td>\n",
       "      <td>Albrecht_Durer_(100).jpg</td>\n",
       "      <td>..\\raw_images\\Albrecht_Durer\\Albrecht_Durer_(1...</td>\n",
       "      <td>Northern Renaissance</td>\n",
       "    </tr>\n",
       "    <tr>\n",
       "      <th>3</th>\n",
       "      <td>Albrecht_Durer</td>\n",
       "      <td>Albrecht_Durer_(101).jpg</td>\n",
       "      <td>..\\raw_images\\Albrecht_Durer\\Albrecht_Durer_(1...</td>\n",
       "      <td>Northern Renaissance</td>\n",
       "    </tr>\n",
       "    <tr>\n",
       "      <th>4</th>\n",
       "      <td>Albrecht_Durer</td>\n",
       "      <td>Albrecht_Durer_(102).jpg</td>\n",
       "      <td>..\\raw_images\\Albrecht_Durer\\Albrecht_Durer_(1...</td>\n",
       "      <td>Northern Renaissance</td>\n",
       "    </tr>\n",
       "  </tbody>\n",
       "</table>\n",
       "</div>"
      ],
      "text/plain": [
       "             name                  filename  \\\n",
       "0  Albrecht_Durer    Albrecht_Durer_(1).jpg   \n",
       "1  Albrecht_Durer   Albrecht_Durer_(10).jpg   \n",
       "2  Albrecht_Durer  Albrecht_Durer_(100).jpg   \n",
       "3  Albrecht_Durer  Albrecht_Durer_(101).jpg   \n",
       "4  Albrecht_Durer  Albrecht_Durer_(102).jpg   \n",
       "\n",
       "                                            filepath                 genre  \n",
       "0  ..\\raw_images\\Albrecht_Durer\\Albrecht_Durer_(1...  Northern Renaissance  \n",
       "1  ..\\raw_images\\Albrecht_Durer\\Albrecht_Durer_(1...  Northern Renaissance  \n",
       "2  ..\\raw_images\\Albrecht_Durer\\Albrecht_Durer_(1...  Northern Renaissance  \n",
       "3  ..\\raw_images\\Albrecht_Durer\\Albrecht_Durer_(1...  Northern Renaissance  \n",
       "4  ..\\raw_images\\Albrecht_Durer\\Albrecht_Durer_(1...  Northern Renaissance  "
      ]
     },
     "execution_count": 7,
     "metadata": {},
     "output_type": "execute_result"
    }
   ],
   "source": [
    "#extract the artist name and genre\n",
    "genre = artists.loc[:,['name', 'genre']]\n",
    "#label each file with their respective genres\n",
    "artlabels = artlabels.merge(genre, how='left', on='name')\n",
    "artlabels.head()"
   ]
  },
  {
   "cell_type": "code",
   "execution_count": 8,
   "metadata": {},
   "outputs": [],
   "source": [
    "#separate dataframe into train and test sets\n",
    "genres = artlabels.genre.unique()\n",
    "train_set = []\n",
    "\n",
    "for i in genres:\n",
    "    df = artlabels.loc[artlabels.genre == str(i)]\n",
    "    df.reset_index(inplace=True, drop=True)\n",
    "    train_size = 0.8\n",
    "    train_index = round(len(df)*train_size)\n",
    "    for x in range(train_index):\n",
    "        train_set.append(list(df.iloc[x]))\n"
   ]
  },
  {
   "cell_type": "code",
   "execution_count": 9,
   "metadata": {},
   "outputs": [],
   "source": [
    "train_set=pd.DataFrame(train_set, columns=['name', 'filename', 'filepath', 'genre'])\n",
    "test_set=artlabels[~artlabels.filename.isin(list(train_set.filename))]\n",
    "test_set.reset_index(inplace=True, drop=True)"
   ]
  },
  {
   "cell_type": "code",
   "execution_count": 10,
   "metadata": {
    "scrolled": false
   },
   "outputs": [
    {
     "name": "stdout",
     "output_type": "stream",
     "text": [
      "..\\data path already exists\n"
     ]
    }
   ],
   "source": [
    "#create a new folder for the csv files\n",
    "datapath = '..\\data'\n",
    "create_new_folder(datapath)"
   ]
  },
  {
   "cell_type": "code",
   "execution_count": 8,
   "metadata": {
    "scrolled": false
   },
   "outputs": [],
   "source": [
    "'''#create a new csv file with at most one genre for an artist\n",
    "newfile = 'artists_clean.csv'\n",
    "fullpath = os.path.join(datapath, newfile)\n",
    "artists.to_csv(fullpath)'''"
   ]
  },
  {
   "cell_type": "code",
   "execution_count": 9,
   "metadata": {
    "scrolled": true
   },
   "outputs": [],
   "source": [
    "'''#create a csv file from the new dataframe\n",
    "newfile = 'artlabels.csv'\n",
    "fullpath = os.path.join(datapath, newfile)\n",
    "artlabels.to_csv(fullpath)'''"
   ]
  },
  {
   "cell_type": "code",
   "execution_count": 11,
   "metadata": {
    "scrolled": true
   },
   "outputs": [],
   "source": [
    "rawpath = r'..\\raw_images'\n",
    "trainpath = r'..\\train_images'\n",
    "testpath = r'..\\test_images'"
   ]
  },
  {
   "cell_type": "code",
   "execution_count": 16,
   "metadata": {},
   "outputs": [
    {
     "name": "stdout",
     "output_type": "stream",
     "text": [
      "..\\raw_images path already exists\n",
      "..\\train_images created\n",
      "..\\test_images created\n"
     ]
    },
    {
     "data": {
      "text/plain": [
       "[None, None, None]"
      ]
     },
     "execution_count": 16,
     "metadata": {},
     "output_type": "execute_result"
    }
   ],
   "source": [
    "[create_new_folder(i) for i in [rawpath, trainpath, testpath]]"
   ]
  },
  {
   "cell_type": "code",
   "execution_count": 18,
   "metadata": {},
   "outputs": [
    {
     "name": "stdout",
     "output_type": "stream",
     "text": [
      "..\\train_images\\Northern Renaissance created\n",
      "..\\test_images\\Northern Renaissance created\n",
      "..\\train_images\\Impressionism created\n",
      "..\\test_images\\Impressionism created\n",
      "..\\train_images\\Expressionism created\n",
      "..\\test_images\\Expressionism created\n",
      "..\\train_images\\Byzantine Art created\n",
      "..\\test_images\\Byzantine Art created\n",
      "..\\train_images\\Pop Art created\n",
      "..\\test_images\\Pop Art created\n",
      "..\\train_images\\Impressionism,Post-Impressionism created\n",
      "..\\test_images\\Impressionism,Post-Impressionism created\n",
      "..\\train_images\\Baroque created\n",
      "..\\test_images\\Baroque created\n",
      "..\\train_images\\Social Realism,Muralism created\n",
      "..\\test_images\\Social Realism,Muralism created\n",
      "..\\train_images\\Realism,Impressionism created\n",
      "..\\test_images\\Realism,Impressionism created\n",
      "..\\train_images\\Symbolism,Expressionism created\n",
      "..\\test_images\\Symbolism,Expressionism created\n",
      "..\\train_images\\Mannerism created\n",
      "..\\test_images\\Mannerism created\n",
      "..\\train_images\\Romanticism created\n",
      "..\\test_images\\Romanticism created\n",
      "..\\train_images\\Primitivism,Surrealism created\n",
      "..\\test_images\\Primitivism,Surrealism created\n",
      "..\\train_images\\Post-Impressionism created\n",
      "..\\test_images\\Post-Impressionism created\n",
      "..\\train_images\\Proto Renaissance created\n",
      "..\\test_images\\Proto Renaissance created\n",
      "..\\train_images\\Realism created\n",
      "..\\test_images\\Realism created\n",
      "..\\train_images\\Symbolism,Art Nouveau created\n",
      "..\\test_images\\Symbolism,Art Nouveau created\n",
      "..\\train_images\\Primitivism created\n",
      "..\\test_images\\Primitivism created\n",
      "..\\train_images\\Abstract Expressionism created\n",
      "..\\test_images\\Abstract Expressionism created\n",
      "..\\train_images\\Surrealism created\n",
      "..\\test_images\\Surrealism created\n",
      "..\\train_images\\Suprematism created\n",
      "..\\test_images\\Suprematism created\n",
      "..\\train_images\\High Renaissance created\n",
      "..\\test_images\\High Renaissance created\n",
      "..\\train_images\\Symbolism created\n",
      "..\\test_images\\Symbolism created\n",
      "..\\train_images\\Cubism created\n",
      "..\\test_images\\Cubism created\n",
      "..\\train_images\\Symbolism,Post-Impressionism created\n",
      "..\\test_images\\Symbolism,Post-Impressionism created\n",
      "..\\train_images\\Expressionism,Abstractionism,Surrealism created\n",
      "..\\test_images\\Expressionism,Abstractionism,Surrealism created\n",
      "..\\train_images\\Neoplasticism created\n",
      "..\\test_images\\Neoplasticism created\n",
      "..\\train_images\\Surrealism,Impressionism created\n",
      "..\\test_images\\Surrealism,Impressionism created\n",
      "..\\train_images\\Early Renaissance created\n",
      "..\\test_images\\Early Renaissance created\n",
      "..\\train_images\\High Renaissance,Mannerism created\n",
      "..\\test_images\\High Renaissance,Mannerism created\n",
      "..\\train_images\\Expressionism,Abstractionism created\n",
      "..\\test_images\\Expressionism,Abstractionism created\n"
     ]
    }
   ],
   "source": [
    "for i in genres:\n",
    "    train = os.path.join(trainpath, i)\n",
    "    test = os.path.join(testpath, i)\n",
    "    create_new_folder(train)\n",
    "    create_new_folder(test)"
   ]
  },
  {
   "cell_type": "code",
   "execution_count": 21,
   "metadata": {},
   "outputs": [],
   "source": [
    "for i in range(len(train_set)):\n",
    "    shutil.copy(train_set.filepath[i], os.path.join(trainpath, train_set.genre[i]))\n",
    "for i in range(len(test_set)):\n",
    "    shutil.copy(test_set.filepath[i],os.path.join(testpath, test_set.genre[i]))\n",
    "    "
   ]
  },
  {
   "cell_type": "code",
   "execution_count": 13,
   "metadata": {},
   "outputs": [],
   "source": [
    "sample_df = artists.loc[(artists.genre == 'Impressionism') | (artists.genre == 'Pop Art') | (artists.genre == 'Abstract Expressionism')]\n",
    "sample_df.reset_index(inplace=True, drop=True)"
   ]
  },
  {
   "cell_type": "code",
   "execution_count": 14,
   "metadata": {
    "scrolled": true
   },
   "outputs": [
    {
     "name": "stdout",
     "output_type": "stream",
     "text": [
      "Deleted 0 images\n"
     ]
    }
   ],
   "source": [
    "#clear old images to procure a new sample\n",
    "num_skipped = clear_old_images(trainpath, sample_df)"
   ]
  },
  {
   "cell_type": "code",
   "execution_count": 14,
   "metadata": {
    "scrolled": false
   },
   "outputs": [
    {
     "name": "stdout",
     "output_type": "stream",
     "text": [
      "..\\images\\Impressionism path already exists\n",
      "..\\images\\Post-Impressionism path already exists\n",
      "..\\images\\Northern Renaissance path already exists\n",
      "..\\images\\Impressionism path already exists\n",
      "..\\images\\Northern Renaissance path already exists\n",
      "..\\images\\Impressionism path already exists\n",
      "..\\images\\Northern Renaissance path already exists\n",
      "..\\images\\Northern Renaissance path already exists\n",
      "..\\images\\Impressionism path already exists\n",
      "..\\images\\Post-Impressionism path already exists\n",
      "..\\images\\Post-Impressionism path already exists\n",
      "..\\images\\Post-Impressionism path already exists\n",
      "Generated 1548 new images\n"
     ]
    }
   ],
   "source": [
    "#extract sample images\n",
    "image_list = get_random_imgs(rawpath, imagepath, sample_df, 0.5)"
   ]
  },
  {
   "cell_type": "code",
   "execution_count": 22,
   "metadata": {
    "scrolled": true
   },
   "outputs": [],
   "source": [
    "df_labels = pd.DataFrame(columns=['label', 'filename', 'filepath'])\n",
    "for i in range(len(image_list)):\n",
    "    df_labels.loc[i] = image_list[i]  "
   ]
  },
  {
   "cell_type": "code",
   "execution_count": 23,
   "metadata": {},
   "outputs": [
    {
     "data": {
      "text/html": [
       "<div>\n",
       "<style scoped>\n",
       "    .dataframe tbody tr th:only-of-type {\n",
       "        vertical-align: middle;\n",
       "    }\n",
       "\n",
       "    .dataframe tbody tr th {\n",
       "        vertical-align: top;\n",
       "    }\n",
       "\n",
       "    .dataframe thead th {\n",
       "        text-align: right;\n",
       "    }\n",
       "</style>\n",
       "<table border=\"1\" class=\"dataframe\">\n",
       "  <thead>\n",
       "    <tr style=\"text-align: right;\">\n",
       "      <th></th>\n",
       "      <th>label</th>\n",
       "      <th>filename</th>\n",
       "      <th>filepath</th>\n",
       "    </tr>\n",
       "  </thead>\n",
       "  <tbody>\n",
       "    <tr>\n",
       "      <th>0</th>\n",
       "      <td>Impressionism</td>\n",
       "      <td>Claude_Monet_3.jpg</td>\n",
       "      <td>..\\images\\Impressionism\\Claude_Monet_3.jpg</td>\n",
       "    </tr>\n",
       "    <tr>\n",
       "      <th>1</th>\n",
       "      <td>Impressionism</td>\n",
       "      <td>Claude_Monet_63.jpg</td>\n",
       "      <td>..\\images\\Impressionism\\Claude_Monet_63.jpg</td>\n",
       "    </tr>\n",
       "    <tr>\n",
       "      <th>2</th>\n",
       "      <td>Impressionism</td>\n",
       "      <td>Claude_Monet_68.jpg</td>\n",
       "      <td>..\\images\\Impressionism\\Claude_Monet_68.jpg</td>\n",
       "    </tr>\n",
       "    <tr>\n",
       "      <th>3</th>\n",
       "      <td>Impressionism</td>\n",
       "      <td>Claude_Monet_58.jpg</td>\n",
       "      <td>..\\images\\Impressionism\\Claude_Monet_58.jpg</td>\n",
       "    </tr>\n",
       "    <tr>\n",
       "      <th>4</th>\n",
       "      <td>Impressionism</td>\n",
       "      <td>Claude_Monet_48.jpg</td>\n",
       "      <td>..\\images\\Impressionism\\Claude_Monet_48.jpg</td>\n",
       "    </tr>\n",
       "  </tbody>\n",
       "</table>\n",
       "</div>"
      ],
      "text/plain": [
       "           label             filename  \\\n",
       "0  Impressionism   Claude_Monet_3.jpg   \n",
       "1  Impressionism  Claude_Monet_63.jpg   \n",
       "2  Impressionism  Claude_Monet_68.jpg   \n",
       "3  Impressionism  Claude_Monet_58.jpg   \n",
       "4  Impressionism  Claude_Monet_48.jpg   \n",
       "\n",
       "                                      filepath  \n",
       "0   ..\\images\\Impressionism\\Claude_Monet_3.jpg  \n",
       "1  ..\\images\\Impressionism\\Claude_Monet_63.jpg  \n",
       "2  ..\\images\\Impressionism\\Claude_Monet_68.jpg  \n",
       "3  ..\\images\\Impressionism\\Claude_Monet_58.jpg  \n",
       "4  ..\\images\\Impressionism\\Claude_Monet_48.jpg  "
      ]
     },
     "execution_count": 23,
     "metadata": {},
     "output_type": "execute_result"
    }
   ],
   "source": [
    "df_labels.head()"
   ]
  },
  {
   "cell_type": "code",
   "execution_count": 24,
   "metadata": {},
   "outputs": [],
   "source": [
    "df_labels.to_csv(r'..\\data\\sample.csv')"
   ]
  },
  {
   "cell_type": "code",
   "execution_count": 25,
   "metadata": {
    "scrolled": false
   },
   "outputs": [],
   "source": [
    "df_labels_list = list(df_labels.filename)"
   ]
  },
  {
   "cell_type": "code",
   "execution_count": 39,
   "metadata": {},
   "outputs": [],
   "source": [
    "not_sampled = artlabels[~artlabels.filename.isin(df_labels_list)]\n",
    "not_sampled = not_sampled.loc[(not_sampled.genre == 'Impressionism') | (not_sampled.genre == 'Pop Art') | (not_sampled.genre == 'Abstract Expressionism')]\n",
    "not_sampled.reset_index(inplace=True)\n",
    "not_sampled.drop(labels='index', axis=1, inplace=True)"
   ]
  },
  {
   "cell_type": "code",
   "execution_count": 40,
   "metadata": {},
   "outputs": [
    {
     "data": {
      "text/html": [
       "<div>\n",
       "<style scoped>\n",
       "    .dataframe tbody tr th:only-of-type {\n",
       "        vertical-align: middle;\n",
       "    }\n",
       "\n",
       "    .dataframe tbody tr th {\n",
       "        vertical-align: top;\n",
       "    }\n",
       "\n",
       "    .dataframe thead th {\n",
       "        text-align: right;\n",
       "    }\n",
       "</style>\n",
       "<table border=\"1\" class=\"dataframe\">\n",
       "  <thead>\n",
       "    <tr style=\"text-align: right;\">\n",
       "      <th></th>\n",
       "      <th>name</th>\n",
       "      <th>filename</th>\n",
       "      <th>filepath</th>\n",
       "      <th>genre</th>\n",
       "    </tr>\n",
       "  </thead>\n",
       "  <tbody>\n",
       "    <tr>\n",
       "      <th>0</th>\n",
       "      <td>Albrecht_Durer</td>\n",
       "      <td>Albrecht_Durer_(10).jpg</td>\n",
       "      <td>..\\raw_images\\Albrecht_Durer\\Albrecht_Durer_(1...</td>\n",
       "      <td>Northern Renaissance</td>\n",
       "    </tr>\n",
       "    <tr>\n",
       "      <th>1</th>\n",
       "      <td>Albrecht_Durer</td>\n",
       "      <td>Albrecht_Durer_(104).jpg</td>\n",
       "      <td>..\\raw_images\\Albrecht_Durer\\Albrecht_Durer_(1...</td>\n",
       "      <td>Northern Renaissance</td>\n",
       "    </tr>\n",
       "    <tr>\n",
       "      <th>2</th>\n",
       "      <td>Albrecht_Durer</td>\n",
       "      <td>Albrecht_Durer_(106).jpg</td>\n",
       "      <td>..\\raw_images\\Albrecht_Durer\\Albrecht_Durer_(1...</td>\n",
       "      <td>Northern Renaissance</td>\n",
       "    </tr>\n",
       "    <tr>\n",
       "      <th>3</th>\n",
       "      <td>Albrecht_Durer</td>\n",
       "      <td>Albrecht_Durer_(108).jpg</td>\n",
       "      <td>..\\raw_images\\Albrecht_Durer\\Albrecht_Durer_(1...</td>\n",
       "      <td>Northern Renaissance</td>\n",
       "    </tr>\n",
       "    <tr>\n",
       "      <th>4</th>\n",
       "      <td>Albrecht_Durer</td>\n",
       "      <td>Albrecht_Durer_(110).jpg</td>\n",
       "      <td>..\\raw_images\\Albrecht_Durer\\Albrecht_Durer_(1...</td>\n",
       "      <td>Northern Renaissance</td>\n",
       "    </tr>\n",
       "  </tbody>\n",
       "</table>\n",
       "</div>"
      ],
      "text/plain": [
       "             name                  filename  \\\n",
       "0  Albrecht_Durer   Albrecht_Durer_(10).jpg   \n",
       "1  Albrecht_Durer  Albrecht_Durer_(104).jpg   \n",
       "2  Albrecht_Durer  Albrecht_Durer_(106).jpg   \n",
       "3  Albrecht_Durer  Albrecht_Durer_(108).jpg   \n",
       "4  Albrecht_Durer  Albrecht_Durer_(110).jpg   \n",
       "\n",
       "                                            filepath                 genre  \n",
       "0  ..\\raw_images\\Albrecht_Durer\\Albrecht_Durer_(1...  Northern Renaissance  \n",
       "1  ..\\raw_images\\Albrecht_Durer\\Albrecht_Durer_(1...  Northern Renaissance  \n",
       "2  ..\\raw_images\\Albrecht_Durer\\Albrecht_Durer_(1...  Northern Renaissance  \n",
       "3  ..\\raw_images\\Albrecht_Durer\\Albrecht_Durer_(1...  Northern Renaissance  \n",
       "4  ..\\raw_images\\Albrecht_Durer\\Albrecht_Durer_(1...  Northern Renaissance  "
      ]
     },
     "execution_count": 40,
     "metadata": {},
     "output_type": "execute_result"
    }
   ],
   "source": [
    "not_sampled"
   ]
  },
  {
   "cell_type": "code",
   "execution_count": null,
   "metadata": {},
   "outputs": [],
   "source": [
    "testpath = r'..\\test_images'\n",
    "create_new_folder(testpath)"
   ]
  },
  {
   "cell_type": "code",
   "execution_count": null,
   "metadata": {},
   "outputs": [],
   "source": [
    "num_skipped = clear_old_images(testpath, not_sampled)"
   ]
  },
  {
   "cell_type": "code",
   "execution_count": null,
   "metadata": {},
   "outputs": [],
   "source": [
    "#this would be 25% of the total images for each class from the images not sampled\n",
    "test_list = get_random_imgs(rawpath, testpath, not_sampled, 0.5)"
   ]
  },
  {
   "cell_type": "code",
   "execution_count": null,
   "metadata": {},
   "outputs": [],
   "source": [
    "df_labels = pd.DataFrame(columns=['label', 'filename', 'filepath'])\n",
    "for i in range(len(image_list)):\n",
    "    df_labels.loc[i] = image_list[i]"
   ]
  },
  {
   "cell_type": "code",
   "execution_count": 85,
   "metadata": {},
   "outputs": [
    {
     "name": "stdout",
     "output_type": "stream",
     "text": [
      "   0  1  2\n",
      "0  1  2  3\n",
      "1  1  2  3\n",
      "   0  1\n",
      "0  1  1\n",
      "1  2  2\n",
      "2  3  3\n"
     ]
    }
   ],
   "source": [
    "empty_dataframe = pd.DataFrame()\n",
    "list_dataframe = pd.DataFrame([[1, 2, 3], [1, 2,3]])\n",
    "print(list_dataframe)\n",
    "list_dataframe = np.transpose(list_dataframe)\n",
    "result_dataframe = empty_dataframe.append(list_dataframe)\n",
    "print(result_dataframe)"
   ]
  },
  {
   "cell_type": "code",
   "execution_count": null,
   "metadata": {},
   "outputs": [],
   "source": []
  }
 ],
 "metadata": {
  "kernelspec": {
   "display_name": "deep learning",
   "language": "python",
   "name": "deep_learning"
  },
  "language_info": {
   "codemirror_mode": {
    "name": "ipython",
    "version": 3
   },
   "file_extension": ".py",
   "mimetype": "text/x-python",
   "name": "python",
   "nbconvert_exporter": "python",
   "pygments_lexer": "ipython3",
   "version": "3.8.5"
  }
 },
 "nbformat": 4,
 "nbformat_minor": 4
}
