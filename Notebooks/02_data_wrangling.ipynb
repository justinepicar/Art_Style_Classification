{
 "cells": [
  {
   "cell_type": "code",
   "execution_count": 1,
   "metadata": {},
   "outputs": [],
   "source": [
    "%load_ext autoreload\n",
    "%autoreload 2"
   ]
  },
  {
   "cell_type": "code",
   "execution_count": 2,
   "metadata": {},
   "outputs": [],
   "source": [
    "import os\n",
    "import sys\n",
    "import pandas as pd\n",
    "import shutil\n",
    "import random\n",
    "import numpy as np"
   ]
  },
  {
   "cell_type": "code",
   "execution_count": 3,
   "metadata": {},
   "outputs": [],
   "source": [
    "sys.path.insert(0, '..')\n",
    "from function import *\n",
    "from createimages import *"
   ]
  },
  {
   "cell_type": "code",
   "execution_count": 49,
   "metadata": {
    "scrolled": false
   },
   "outputs": [],
   "source": [
    "artists = pd.read_csv('../raw_data/artists.csv')"
   ]
  },
  {
   "cell_type": "code",
   "execution_count": 52,
   "metadata": {},
   "outputs": [
    {
     "data": {
      "text/html": [
       "<div>\n",
       "<style scoped>\n",
       "    .dataframe tbody tr th:only-of-type {\n",
       "        vertical-align: middle;\n",
       "    }\n",
       "\n",
       "    .dataframe tbody tr th {\n",
       "        vertical-align: top;\n",
       "    }\n",
       "\n",
       "    .dataframe thead th {\n",
       "        text-align: right;\n",
       "    }\n",
       "</style>\n",
       "<table border=\"1\" class=\"dataframe\">\n",
       "  <thead>\n",
       "    <tr style=\"text-align: right;\">\n",
       "      <th></th>\n",
       "      <th>name</th>\n",
       "      <th>years</th>\n",
       "      <th>genre</th>\n",
       "      <th>nationality</th>\n",
       "      <th>bio</th>\n",
       "      <th>wikipedia</th>\n",
       "      <th>paintings</th>\n",
       "    </tr>\n",
       "  </thead>\n",
       "  <tbody>\n",
       "    <tr>\n",
       "      <th>0</th>\n",
       "      <td>Amedeo_Modigliani</td>\n",
       "      <td>1884 - 1920</td>\n",
       "      <td>Expressionism</td>\n",
       "      <td>Italian</td>\n",
       "      <td>Amedeo Clemente Modigliani (Italian pronunciat...</td>\n",
       "      <td>http://en.wikipedia.org/wiki/Amedeo_Modigliani</td>\n",
       "      <td>193</td>\n",
       "    </tr>\n",
       "    <tr>\n",
       "      <th>1</th>\n",
       "      <td>Vasiliy_Kandinskiy</td>\n",
       "      <td>1866 - 1944</td>\n",
       "      <td>Expressionism,Abstractionism</td>\n",
       "      <td>Russian</td>\n",
       "      <td>Wassily Wassilyevich Kandinsky (Russian: Васи́...</td>\n",
       "      <td>http://en.wikipedia.org/wiki/Wassily_Kandinsky</td>\n",
       "      <td>88</td>\n",
       "    </tr>\n",
       "    <tr>\n",
       "      <th>2</th>\n",
       "      <td>Diego_Rivera</td>\n",
       "      <td>1886 - 1957</td>\n",
       "      <td>Social Realism,Muralism</td>\n",
       "      <td>Mexican</td>\n",
       "      <td>Diego María de la Concepción Juan Nepomuceno E...</td>\n",
       "      <td>http://en.wikipedia.org/wiki/Diego_Rivera</td>\n",
       "      <td>70</td>\n",
       "    </tr>\n",
       "    <tr>\n",
       "      <th>3</th>\n",
       "      <td>Claude_Monet</td>\n",
       "      <td>1840 - 1926</td>\n",
       "      <td>Impressionism</td>\n",
       "      <td>French</td>\n",
       "      <td>Oscar-Claude Monet (; French: [klod mɔnɛ]; 14 ...</td>\n",
       "      <td>http://en.wikipedia.org/wiki/Claude_Monet</td>\n",
       "      <td>73</td>\n",
       "    </tr>\n",
       "    <tr>\n",
       "      <th>4</th>\n",
       "      <td>Rene_Magritte</td>\n",
       "      <td>1898 - 1967</td>\n",
       "      <td>Surrealism,Impressionism</td>\n",
       "      <td>Belgian</td>\n",
       "      <td>René François Ghislain Magritte (French: [ʁəne...</td>\n",
       "      <td>http://en.wikipedia.org/wiki/René_Magritte</td>\n",
       "      <td>194</td>\n",
       "    </tr>\n",
       "  </tbody>\n",
       "</table>\n",
       "</div>"
      ],
      "text/plain": [
       "                 name        years                         genre nationality  \\\n",
       "0   Amedeo_Modigliani  1884 - 1920                 Expressionism     Italian   \n",
       "1  Vasiliy_Kandinskiy  1866 - 1944  Expressionism,Abstractionism     Russian   \n",
       "2        Diego_Rivera  1886 - 1957       Social Realism,Muralism     Mexican   \n",
       "3        Claude_Monet  1840 - 1926                 Impressionism      French   \n",
       "4       Rene_Magritte  1898 - 1967      Surrealism,Impressionism     Belgian   \n",
       "\n",
       "                                                 bio  \\\n",
       "0  Amedeo Clemente Modigliani (Italian pronunciat...   \n",
       "1  Wassily Wassilyevich Kandinsky (Russian: Васи́...   \n",
       "2  Diego María de la Concepción Juan Nepomuceno E...   \n",
       "3  Oscar-Claude Monet (; French: [klod mɔnɛ]; 14 ...   \n",
       "4  René François Ghislain Magritte (French: [ʁəne...   \n",
       "\n",
       "                                        wikipedia  paintings  \n",
       "0  http://en.wikipedia.org/wiki/Amedeo_Modigliani        193  \n",
       "1  http://en.wikipedia.org/wiki/Wassily_Kandinsky         88  \n",
       "2       http://en.wikipedia.org/wiki/Diego_Rivera         70  \n",
       "3       http://en.wikipedia.org/wiki/Claude_Monet         73  \n",
       "4      http://en.wikipedia.org/wiki/René_Magritte        194  "
      ]
     },
     "execution_count": 52,
     "metadata": {},
     "output_type": "execute_result"
    }
   ],
   "source": [
    "#drop id, years, nationality, bio, wikipedia\n",
    "artists.drop(labels='id', axis=1, inplace = True)\n",
    "#rename 'Albrecht Dürer' to 'Albrecht Durer'\n",
    "artists['name'] = artists['name'].replace(to_replace='Albrecht D.rer', value = 'Albrecht Durer', regex = True)\n",
    "artists['name'] = artists['name'].str.replace(' ', '_')\n",
    "artists.head()"
   ]
  },
  {
   "cell_type": "code",
   "execution_count": 54,
   "metadata": {
    "scrolled": true
   },
   "outputs": [
    {
     "name": "stdout",
     "output_type": "stream",
     "text": [
      "..\\data path already exists\n"
     ]
    }
   ],
   "source": [
    "#create a new folder for the csv files\n",
    "datapath = '..\\data'\n",
    "create_new_folder(datapath)"
   ]
  },
  {
   "cell_type": "code",
   "execution_count": 55,
   "metadata": {
    "scrolled": false
   },
   "outputs": [],
   "source": [
    "#create a new csv file with at most one genre for an artist\n",
    "newfile = 'artists_clean.csv'\n",
    "fullpath = os.path.join(datapath, newfile)\n",
    "artists.to_csv(fullpath)"
   ]
  },
  {
   "cell_type": "code",
   "execution_count": 56,
   "metadata": {
    "scrolled": true
   },
   "outputs": [],
   "source": [
    "#create data frame with artist name, genre, filename, filepath\n",
    "path = r'..\\raw_images'\n",
    "#get image information\n",
    "img_info = get_image_info(path)\n",
    "#convert lists to dataframe\n",
    "zipped = zip(['name', 'filename', 'filepath'], img_info)\n",
    "artlabels = pd.DataFrame(dict(list(zipped)))"
   ]
  },
  {
   "cell_type": "code",
   "execution_count": 57,
   "metadata": {
    "scrolled": false
   },
   "outputs": [
    {
     "data": {
      "text/html": [
       "<div>\n",
       "<style scoped>\n",
       "    .dataframe tbody tr th:only-of-type {\n",
       "        vertical-align: middle;\n",
       "    }\n",
       "\n",
       "    .dataframe tbody tr th {\n",
       "        vertical-align: top;\n",
       "    }\n",
       "\n",
       "    .dataframe thead th {\n",
       "        text-align: right;\n",
       "    }\n",
       "</style>\n",
       "<table border=\"1\" class=\"dataframe\">\n",
       "  <thead>\n",
       "    <tr style=\"text-align: right;\">\n",
       "      <th></th>\n",
       "      <th>name</th>\n",
       "      <th>filename</th>\n",
       "      <th>filepath</th>\n",
       "      <th>genre</th>\n",
       "    </tr>\n",
       "  </thead>\n",
       "  <tbody>\n",
       "    <tr>\n",
       "      <th>0</th>\n",
       "      <td>Albrecht_Durer</td>\n",
       "      <td>Albrecht_Durer_(1).jpg</td>\n",
       "      <td>..\\raw_images\\Albrecht_Durer\\Albrecht_Durer_(1...</td>\n",
       "      <td>Northern Renaissance</td>\n",
       "    </tr>\n",
       "    <tr>\n",
       "      <th>1</th>\n",
       "      <td>Albrecht_Durer</td>\n",
       "      <td>Albrecht_Durer_(10).jpg</td>\n",
       "      <td>..\\raw_images\\Albrecht_Durer\\Albrecht_Durer_(1...</td>\n",
       "      <td>Northern Renaissance</td>\n",
       "    </tr>\n",
       "    <tr>\n",
       "      <th>2</th>\n",
       "      <td>Albrecht_Durer</td>\n",
       "      <td>Albrecht_Durer_(100).jpg</td>\n",
       "      <td>..\\raw_images\\Albrecht_Durer\\Albrecht_Durer_(1...</td>\n",
       "      <td>Northern Renaissance</td>\n",
       "    </tr>\n",
       "    <tr>\n",
       "      <th>3</th>\n",
       "      <td>Albrecht_Durer</td>\n",
       "      <td>Albrecht_Durer_(101).jpg</td>\n",
       "      <td>..\\raw_images\\Albrecht_Durer\\Albrecht_Durer_(1...</td>\n",
       "      <td>Northern Renaissance</td>\n",
       "    </tr>\n",
       "    <tr>\n",
       "      <th>4</th>\n",
       "      <td>Albrecht_Durer</td>\n",
       "      <td>Albrecht_Durer_(102).jpg</td>\n",
       "      <td>..\\raw_images\\Albrecht_Durer\\Albrecht_Durer_(1...</td>\n",
       "      <td>Northern Renaissance</td>\n",
       "    </tr>\n",
       "  </tbody>\n",
       "</table>\n",
       "</div>"
      ],
      "text/plain": [
       "             name                  filename  \\\n",
       "0  Albrecht_Durer    Albrecht_Durer_(1).jpg   \n",
       "1  Albrecht_Durer   Albrecht_Durer_(10).jpg   \n",
       "2  Albrecht_Durer  Albrecht_Durer_(100).jpg   \n",
       "3  Albrecht_Durer  Albrecht_Durer_(101).jpg   \n",
       "4  Albrecht_Durer  Albrecht_Durer_(102).jpg   \n",
       "\n",
       "                                            filepath                 genre  \n",
       "0  ..\\raw_images\\Albrecht_Durer\\Albrecht_Durer_(1...  Northern Renaissance  \n",
       "1  ..\\raw_images\\Albrecht_Durer\\Albrecht_Durer_(1...  Northern Renaissance  \n",
       "2  ..\\raw_images\\Albrecht_Durer\\Albrecht_Durer_(1...  Northern Renaissance  \n",
       "3  ..\\raw_images\\Albrecht_Durer\\Albrecht_Durer_(1...  Northern Renaissance  \n",
       "4  ..\\raw_images\\Albrecht_Durer\\Albrecht_Durer_(1...  Northern Renaissance  "
      ]
     },
     "execution_count": 57,
     "metadata": {},
     "output_type": "execute_result"
    }
   ],
   "source": [
    "#extract the artist name and genre\n",
    "labels = artists.loc[:,['name', 'genre']]\n",
    "#label each file with their respective genres\n",
    "artlabels = artlabels.merge(labels, how='left', on='name')\n",
    "artlabels.head()"
   ]
  },
  {
   "cell_type": "code",
   "execution_count": 58,
   "metadata": {
    "scrolled": true
   },
   "outputs": [],
   "source": [
    "#create a csv file from the new dataframe\n",
    "newfile = 'artlabels.csv'\n",
    "fullpath = os.path.join(datapath, newfile)\n",
    "artlabels.to_csv(fullpath)"
   ]
  },
  {
   "cell_type": "code",
   "execution_count": 59,
   "metadata": {},
   "outputs": [],
   "source": [
    "#separate dataframe into train and test sets by genre\n",
    "genres = artlabels.genre.unique()\n",
    "train_set = []\n",
    "#set train_size\n",
    "train_size = 0.8\n",
    "\n",
    "for i in genres:\n",
    "    df = artlabels.loc[artlabels.genre == str(i)]\n",
    "    df.reset_index(inplace=True, drop=True)\n",
    "    #round index to the nearest int\n",
    "    train_index = round(len(df)*train_size)\n",
    "    for x in range(train_index):\n",
    "        train_set.append(list(df.iloc[x]))\n"
   ]
  },
  {
   "cell_type": "code",
   "execution_count": 60,
   "metadata": {},
   "outputs": [],
   "source": [
    "#turn train_set into a DataFrame\n",
    "train_set=pd.DataFrame(train_set, columns=['name', 'filename', 'filepath', 'genre'])\n",
    "\n",
    "#place the remaining images from the artlabels csv not in train_set to test_set\n",
    "test_set=artlabels[~artlabels.filename.isin(list(train_set.filename))]\n",
    "test_set.reset_index(inplace=True, drop=True)"
   ]
  },
  {
   "cell_type": "code",
   "execution_count": 61,
   "metadata": {
    "scrolled": true
   },
   "outputs": [],
   "source": [
    "#create new paths for training and test images\n",
    "trainpath = r'..\\train_images'\n",
    "testpath = r'..\\test_images'"
   ]
  },
  {
   "cell_type": "code",
   "execution_count": 62,
   "metadata": {},
   "outputs": [
    {
     "name": "stdout",
     "output_type": "stream",
     "text": [
      "..\\raw_images path already exists\n",
      "..\\train_images path already exists\n",
      "..\\test_images path already exists\n"
     ]
    },
    {
     "data": {
      "text/plain": [
       "[None, None, None]"
      ]
     },
     "execution_count": 62,
     "metadata": {},
     "output_type": "execute_result"
    }
   ],
   "source": [
    "[create_new_folder(i) for i in [trainpath, testpath]]"
   ]
  },
  {
   "cell_type": "code",
   "execution_count": 63,
   "metadata": {},
   "outputs": [
    {
     "name": "stdout",
     "output_type": "stream",
     "text": [
      "..\\train_images\\Northern Renaissance path already exists\n",
      "..\\test_images\\Northern Renaissance path already exists\n",
      "..\\train_images\\Impressionism path already exists\n",
      "..\\test_images\\Impressionism path already exists\n",
      "..\\train_images\\Expressionism path already exists\n",
      "..\\test_images\\Expressionism path already exists\n",
      "..\\train_images\\Byzantine Art path already exists\n",
      "..\\test_images\\Byzantine Art path already exists\n",
      "..\\train_images\\Pop Art path already exists\n",
      "..\\test_images\\Pop Art path already exists\n",
      "..\\train_images\\Impressionism,Post-Impressionism path already exists\n",
      "..\\test_images\\Impressionism,Post-Impressionism path already exists\n",
      "..\\train_images\\Baroque path already exists\n",
      "..\\test_images\\Baroque path already exists\n",
      "..\\train_images\\Social Realism,Muralism path already exists\n",
      "..\\test_images\\Social Realism,Muralism path already exists\n",
      "..\\train_images\\Realism,Impressionism path already exists\n",
      "..\\test_images\\Realism,Impressionism path already exists\n",
      "..\\train_images\\Symbolism,Expressionism path already exists\n",
      "..\\test_images\\Symbolism,Expressionism path already exists\n",
      "..\\train_images\\Mannerism path already exists\n",
      "..\\test_images\\Mannerism path already exists\n",
      "..\\train_images\\Romanticism path already exists\n",
      "..\\test_images\\Romanticism path already exists\n",
      "..\\train_images\\Primitivism,Surrealism path already exists\n",
      "..\\test_images\\Primitivism,Surrealism path already exists\n",
      "..\\train_images\\Post-Impressionism path already exists\n",
      "..\\test_images\\Post-Impressionism path already exists\n",
      "..\\train_images\\Proto Renaissance path already exists\n",
      "..\\test_images\\Proto Renaissance path already exists\n",
      "..\\train_images\\Realism path already exists\n",
      "..\\test_images\\Realism path already exists\n",
      "..\\train_images\\Symbolism,Art Nouveau path already exists\n",
      "..\\test_images\\Symbolism,Art Nouveau path already exists\n",
      "..\\train_images\\Primitivism path already exists\n",
      "..\\test_images\\Primitivism path already exists\n",
      "..\\train_images\\Abstract Expressionism path already exists\n",
      "..\\test_images\\Abstract Expressionism path already exists\n",
      "..\\train_images\\Surrealism path already exists\n",
      "..\\test_images\\Surrealism path already exists\n",
      "..\\train_images\\Suprematism path already exists\n",
      "..\\test_images\\Suprematism path already exists\n",
      "..\\train_images\\High Renaissance path already exists\n",
      "..\\test_images\\High Renaissance path already exists\n",
      "..\\train_images\\Symbolism path already exists\n",
      "..\\test_images\\Symbolism path already exists\n",
      "..\\train_images\\Cubism path already exists\n",
      "..\\test_images\\Cubism path already exists\n",
      "..\\train_images\\Symbolism,Post-Impressionism path already exists\n",
      "..\\test_images\\Symbolism,Post-Impressionism path already exists\n",
      "..\\train_images\\Expressionism,Abstractionism,Surrealism path already exists\n",
      "..\\test_images\\Expressionism,Abstractionism,Surrealism path already exists\n",
      "..\\train_images\\Neoplasticism path already exists\n",
      "..\\test_images\\Neoplasticism path already exists\n",
      "..\\train_images\\Surrealism,Impressionism path already exists\n",
      "..\\test_images\\Surrealism,Impressionism path already exists\n",
      "..\\train_images\\Early Renaissance path already exists\n",
      "..\\test_images\\Early Renaissance path already exists\n",
      "..\\train_images\\High Renaissance,Mannerism path already exists\n",
      "..\\test_images\\High Renaissance,Mannerism path already exists\n",
      "..\\train_images\\Expressionism,Abstractionism path already exists\n",
      "..\\test_images\\Expressionism,Abstractionism path already exists\n"
     ]
    }
   ],
   "source": [
    "#create folders for all genres in the train and test folders\n",
    "for i in genres:\n",
    "    train = os.path.join(trainpath, i)\n",
    "    test = os.path.join(testpath, i)\n",
    "    create_new_folder(train)\n",
    "    create_new_folder(test)"
   ]
  },
  {
   "cell_type": "code",
   "execution_count": 21,
   "metadata": {},
   "outputs": [],
   "source": [
    "#copy all images from the train_set and test_set and move to the train_images and test_images folders respectively\n",
    "for i in range(len(train_set)):\n",
    "    shutil.copy(train_set.filepath[i], os.path.join(trainpath, train_set.genre[i]))\n",
    "for i in range(len(test_set)):\n",
    "    shutil.copy(test_set.filepath[i],os.path.join(testpath, test_set.genre[i]))"
   ]
  },
  {
   "cell_type": "code",
   "execution_count": 47,
   "metadata": {},
   "outputs": [],
   "source": [
    "def get_images(oldpath, newpath, df, genres, perc):\n",
    "    \n",
    "    copied = 0\n",
    "    \n",
    "    for i in genres:\n",
    "        paths = list(df.filepath.loc[df.genre == i].sample(frac=perc, replace=False))\n",
    "        imgpath = os.path.join(newpath, i)\n",
    "        create_new_folder(imgpath)\n",
    "        for filepath in paths:\n",
    "            shutil.copy(filepath, imgpath)\n",
    "            copied += 1\n",
    "    \n",
    "    print(f'Generated {copied} new images')"
   ]
  },
  {
   "cell_type": "code",
   "execution_count": 74,
   "metadata": {},
   "outputs": [],
   "source": [
    "#create a folder to get a sample from the training images\n",
    "imagepath=r'../images'\n",
    "testimagepath=r'../sample_test_images'"
   ]
  },
  {
   "cell_type": "code",
   "execution_count": 75,
   "metadata": {},
   "outputs": [
    {
     "name": "stdout",
     "output_type": "stream",
     "text": [
      "../sample_test_images created\n"
     ]
    }
   ],
   "source": [
    "create_new_folder(testimagepath)"
   ]
  },
  {
   "cell_type": "code",
   "execution_count": 79,
   "metadata": {
    "scrolled": true
   },
   "outputs": [
    {
     "name": "stdout",
     "output_type": "stream",
     "text": [
      "Deleted 630 images\n"
     ]
    }
   ],
   "source": [
    "#clear old images to procure a new sample\n",
    "clear_old_images(imagepath, df_labels)\n",
    "clear_old_images(testimagepath, df_test_labels)"
   ]
  },
  {
   "cell_type": "code",
   "execution_count": 80,
   "metadata": {
    "scrolled": false
   },
   "outputs": [
    {
     "name": "stdout",
     "output_type": "stream",
     "text": [
      "../images\\Impressionism path already exists\n",
      "../images\\Pop Art path already exists\n",
      "../images\\Abstract Expressionism path already exists\n",
      "Generated 630 new images\n"
     ]
    }
   ],
   "source": [
    "#get a sample of new images\n",
    "get_images(trainpath, imagepath, train_set, ['Impressionism', 'Pop Art', 'Abstract Expressionism'], .5) #this is 40% of the total set in each class"
   ]
  },
  {
   "cell_type": "code",
   "execution_count": 83,
   "metadata": {},
   "outputs": [
    {
     "name": "stdout",
     "output_type": "stream",
     "text": [
      "../sample_test_images\\Impressionism created\n",
      "../sample_test_images\\Pop Art created\n",
      "../sample_test_images\\Abstract Expressionism created\n",
      "Generated 157 new images\n"
     ]
    }
   ],
   "source": [
    "get_images(testpath, testimagepath, test_set, ['Impressionism', 'Pop Art', 'Abstract Expressionism'], .5) #this 10% of the total set in each class"
   ]
  },
  {
   "cell_type": "code",
   "execution_count": 84,
   "metadata": {},
   "outputs": [],
   "source": [
    "#get image information from imagepath\n",
    "img_info = get_image_info(imagepath)\n",
    "#convert lists to dataframe\n",
    "zipped = zip(['label', 'filename', 'filepath'], img_info)\n",
    "df_labels = pd.DataFrame(dict(list(zipped)))\n",
    "#save training samples to sample.csv\n",
    "df_labels.to_csv(r'..\\data\\sample_train.csv')"
   ]
  },
  {
   "cell_type": "code",
   "execution_count": 88,
   "metadata": {},
   "outputs": [],
   "source": [
    "#get image information from imagepath\n",
    "test_img_info = get_image_info(testimagepath)\n",
    "#convert lists to dataframe\n",
    "zipped = zip(['label', 'filename', 'filepath'], test_img_info)\n",
    "df_test_labels = pd.DataFrame(dict(list(zipped)))\n",
    "#save training samples to sample.csv\n",
    "df_test_labels.to_csv(r'..\\data\\sample_test.csv')"
   ]
  },
  {
   "cell_type": "code",
   "execution_count": 89,
   "metadata": {},
   "outputs": [
    {
     "data": {
      "text/plain": [
       "(630, 3)"
      ]
     },
     "execution_count": 89,
     "metadata": {},
     "output_type": "execute_result"
    }
   ],
   "source": [
    "df_labels.shape"
   ]
  },
  {
   "cell_type": "code",
   "execution_count": 90,
   "metadata": {},
   "outputs": [
    {
     "data": {
      "text/plain": [
       "(157, 3)"
      ]
     },
     "execution_count": 90,
     "metadata": {},
     "output_type": "execute_result"
    }
   ],
   "source": [
    "df_test_labels.shape"
   ]
  }
 ],
 "metadata": {
  "kernelspec": {
   "display_name": "deep learning",
   "language": "python",
   "name": "deep_learning"
  },
  "language_info": {
   "codemirror_mode": {
    "name": "ipython",
    "version": 3
   },
   "file_extension": ".py",
   "mimetype": "text/x-python",
   "name": "python",
   "nbconvert_exporter": "python",
   "pygments_lexer": "ipython3",
   "version": "3.8.5"
  }
 },
 "nbformat": 4,
 "nbformat_minor": 4
}
